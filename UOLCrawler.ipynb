{
  "nbformat": 4,
  "nbformat_minor": 0,
  "metadata": {
    "colab": {
      "name": "UOLCrawler.ipynb",
      "provenance": [],
      "collapsed_sections": [],
      "include_colab_link": true
    },
    "kernelspec": {
      "name": "python3",
      "display_name": "Python 3"
    },
    "accelerator": "GPU"
  },
  "cells": [
    {
      "cell_type": "markdown",
      "metadata": {
        "id": "view-in-github",
        "colab_type": "text"
      },
      "source": [
        "<a href=\"https://colab.research.google.com/github/daniloaleixo/UOLCrawler/blob/master/UOLCrawler.ipynb\" target=\"_parent\"><img src=\"https://colab.research.google.com/assets/colab-badge.svg\" alt=\"Open In Colab\"/></a>"
      ]
    },
    {
      "cell_type": "markdown",
      "metadata": {
        "id": "4S7osIjTQK0D",
        "colab_type": "text"
      },
      "source": [
        "# UOL Crawler\n",
        " "
      ]
    },
    {
      "cell_type": "code",
      "metadata": {
        "id": "kW5ht9Rb2sS3",
        "colab_type": "code",
        "colab": {
          "base_uri": "https://localhost:8080/",
          "height": 34
        },
        "outputId": "adf11b33-35c3-4d51-ad21-ff70f80a7302"
      },
      "source": [
        "# Settings for notebook\n",
        "from IPython.core.interactiveshell import InteractiveShell\n",
        "InteractiveShell.ast_node_interactivity = \"all\"\n",
        "# Show Python version\n",
        "import platform\n",
        "platform.python_version()"
      ],
      "execution_count": 51,
      "outputs": [
        {
          "output_type": "execute_result",
          "data": {
            "text/plain": [
              "'3.6.9'"
            ]
          },
          "metadata": {
            "tags": []
          },
          "execution_count": 51
        }
      ]
    },
    {
      "cell_type": "code",
      "metadata": {
        "id": "mryKdpTG3a2u",
        "colab_type": "code",
        "colab": {}
      },
      "source": [
        "# Import scrapy\n",
        "try:\n",
        "    import scrapy\n",
        "except:\n",
        "    !pip install scrapy\n",
        "    import scrapy\n",
        "from scrapy.crawler import CrawlerProcess"
      ],
      "execution_count": 0,
      "outputs": []
    },
    {
      "cell_type": "code",
      "metadata": {
        "id": "6DHXyhKeQbE3",
        "colab_type": "code",
        "colab": {}
      },
      "source": [
        "%reload_ext autoreload\n",
        "%autoreload 2\n",
        "%matplotlib inline\n",
        "\n",
        "import re\n",
        "import lxml\n",
        "import urllib.request\n",
        "import urllib.parse\n",
        "import http.cookiejar\n",
        "from lxml.html import fragment_fromstring\n",
        "import scrapy"
      ],
      "execution_count": 0,
      "outputs": []
    },
    {
      "cell_type": "code",
      "metadata": {
        "id": "PIVp0B4gQKDJ",
        "colab_type": "code",
        "colab": {}
      },
      "source": [
        "all_links = {}"
      ],
      "execution_count": 0,
      "outputs": []
    },
    {
      "cell_type": "markdown",
      "metadata": {
        "id": "BncCpG_PSTlq",
        "colab_type": "text"
      },
      "source": [
        "Prepare the requests"
      ]
    },
    {
      "cell_type": "code",
      "metadata": {
        "id": "RybiiC8uQTaS",
        "colab_type": "code",
        "colab": {}
      },
      "source": [
        "url = \"https://www.uol.com.br/\"\n",
        "cj = http.cookiejar.CookieJar()\n",
        "opener = urllib.request.build_opener(urllib.request.HTTPCookieProcessor(cj))\n",
        "opener.addheaders = [('User-agent', 'Mozilla/5.0 (Windows; U; Windows NT 6.1; rv:2.2) Gecko/20110201'),('Accept', ' text/html, text/plain, text/css, text/sgml, */*; q=0.01')]"
      ],
      "execution_count": 0,
      "outputs": []
    },
    {
      "cell_type": "markdown",
      "metadata": {
        "id": "KYHiifUvXCSY",
        "colab_type": "text"
      },
      "source": [
        "## Making the first run"
      ]
    },
    {
      "cell_type": "code",
      "metadata": {
        "id": "ln-3JViXQxcq",
        "colab_type": "code",
        "colab": {}
      },
      "source": [
        "link = opener.open(url)\n",
        "content = link.read().decode(\"ISO-8859-1\") "
      ],
      "execution_count": 0,
      "outputs": []
    },
    {
      "cell_type": "code",
      "metadata": {
        "id": "p4mBOPX1SvLI",
        "colab_type": "code",
        "colab": {}
      },
      "source": [
        "pattern = re.compile('<a href=\"(https://www.uol.com.br/[^ ]*)\"', re.DOTALL)\n",
        "reg = re.findall(pattern, content)"
      ],
      "execution_count": 0,
      "outputs": []
    },
    {
      "cell_type": "code",
      "metadata": {
        "id": "Z0JlOFHDSxde",
        "colab_type": "code",
        "outputId": "ca44674e-af33-440c-9b55-2dbc1e187fc4",
        "colab": {
          "base_uri": "https://localhost:8080/",
          "height": 102
        }
      },
      "source": [
        "reg[:5]"
      ],
      "execution_count": 6,
      "outputs": [
        {
          "output_type": "execute_result",
          "data": {
            "text/plain": [
              "['https://www.uol.com.br/',\n",
              " 'https://www.uol.com.br/mov/retrato',\n",
              " 'https://www.uol.com.br/mov/mov-doc',\n",
              " 'https://www.uol.com.br/podcasts',\n",
              " 'https://www.uol.com.br/vivabem/podcast/maratona/']"
            ]
          },
          "metadata": {
            "tags": []
          },
          "execution_count": 6
        }
      ]
    },
    {
      "cell_type": "markdown",
      "metadata": {
        "id": "W5rTYgYBXHni",
        "colab_type": "text"
      },
      "source": [
        "I'll check all the links with not visited"
      ]
    },
    {
      "cell_type": "code",
      "metadata": {
        "id": "Ak43HKgDTSOH",
        "colab_type": "code",
        "colab": {}
      },
      "source": [
        "for link in reg:\n",
        "  if link not in all_links:\n",
        "    all_links[str(link)] = 0"
      ],
      "execution_count": 0,
      "outputs": []
    },
    {
      "cell_type": "markdown",
      "metadata": {
        "id": "-iAzC17iXNwD",
        "colab_type": "text"
      },
      "source": [
        "The only one that I really visited I'll set to 1"
      ]
    },
    {
      "cell_type": "code",
      "metadata": {
        "id": "SgFJ5Yh-VQrd",
        "colab_type": "code",
        "colab": {}
      },
      "source": [
        "all_links[\"https://www.uol.com.br/\"] = 1"
      ],
      "execution_count": 0,
      "outputs": []
    },
    {
      "cell_type": "markdown",
      "metadata": {
        "id": "orerWi49XVO7",
        "colab_type": "text"
      },
      "source": [
        "# Looping through all the links"
      ]
    },
    {
      "cell_type": "markdown",
      "metadata": {
        "id": "yLO3z4rtXbYK",
        "colab_type": "text"
      },
      "source": [
        "Now I'll loop through all the non-visited links and get their links (for tests purposes I'll limit the size of the dictionary to 1000 links"
      ]
    },
    {
      "cell_type": "code",
      "metadata": {
        "id": "lykDewvpVdTQ",
        "colab_type": "code",
        "outputId": "b85d6e82-99fd-4844-8e00-61f173c328ed",
        "colab": {
          "base_uri": "https://localhost:8080/",
          "height": 460
        }
      },
      "source": [
        "pass_index = 2\n",
        "pattern = re.compile('<a href=\"(https://www.uol.com.br/[^ ]*)\"', re.DOTALL)\n",
        "\n",
        "\n",
        "while all(value == 1 for value in all_links.values()) == False and len(all_links) < 1000: \n",
        "\n",
        "  # Get the next url\n",
        "  next_url = \"\"\n",
        "  for link in all_links.keys():\n",
        "    if all_links[link] == 0:\n",
        "      next_url = link\n",
        "      break;\n",
        "\n",
        "  print('Passing to link number ', pass_index, \" -> \", next_url, \" | all_links size: \", len(all_links))  \n",
        "  \n",
        "  link = opener.open(next_url)\n",
        "  content = link.read().decode(\"ISO-8859-1\")\n",
        "  reg = re.findall(pattern, content)\n",
        "\n",
        "  # Include to all links\n",
        "  for link in reg:\n",
        "    if link not in all_links:\n",
        "      all_links[str(link)] = 0\n",
        "\n",
        "  pass_index = pass_index + 1\n",
        "  all_links[next_url] = 1\n"
      ],
      "execution_count": 9,
      "outputs": [
        {
          "output_type": "stream",
          "text": [
            "Passing to link number  2  ->  https://www.uol.com.br/mov/retrato  | all_links size:  124\n",
            "Passing to link number  3  ->  https://www.uol.com.br/mov/mov-doc  | all_links size:  148\n",
            "Passing to link number  4  ->  https://www.uol.com.br/podcasts  | all_links size:  178\n",
            "Passing to link number  5  ->  https://www.uol.com.br/vivabem/podcast/maratona/  | all_links size:  192\n",
            "Passing to link number  6  ->  https://www.uol.com.br/esporte/podcast/posse-de-bola/  | all_links size:  196\n"
          ],
          "name": "stdout"
        },
        {
          "output_type": "error",
          "ename": "KeyboardInterrupt",
          "evalue": "ignored",
          "traceback": [
            "\u001b[0;31m---------------------------------------------------------------------------\u001b[0m",
            "\u001b[0;31mKeyboardInterrupt\u001b[0m                         Traceback (most recent call last)",
            "\u001b[0;32m<ipython-input-9-2a4740141fc9>\u001b[0m in \u001b[0;36m<module>\u001b[0;34m()\u001b[0m\n\u001b[1;32m     13\u001b[0m \u001b[0;34m\u001b[0m\u001b[0m\n\u001b[1;32m     14\u001b[0m   \u001b[0mlink\u001b[0m \u001b[0;34m=\u001b[0m \u001b[0mopener\u001b[0m\u001b[0;34m.\u001b[0m\u001b[0mopen\u001b[0m\u001b[0;34m(\u001b[0m\u001b[0mnext_url\u001b[0m\u001b[0;34m)\u001b[0m\u001b[0;34m\u001b[0m\u001b[0;34m\u001b[0m\u001b[0m\n\u001b[0;32m---> 15\u001b[0;31m   \u001b[0mcontent\u001b[0m \u001b[0;34m=\u001b[0m \u001b[0mlink\u001b[0m\u001b[0;34m.\u001b[0m\u001b[0mread\u001b[0m\u001b[0;34m(\u001b[0m\u001b[0;34m)\u001b[0m\u001b[0;34m.\u001b[0m\u001b[0mdecode\u001b[0m\u001b[0;34m(\u001b[0m\u001b[0;34m\"ISO-8859-1\"\u001b[0m\u001b[0;34m)\u001b[0m\u001b[0;34m\u001b[0m\u001b[0;34m\u001b[0m\u001b[0m\n\u001b[0m\u001b[1;32m     16\u001b[0m   \u001b[0mpattern\u001b[0m \u001b[0;34m=\u001b[0m \u001b[0mre\u001b[0m\u001b[0;34m.\u001b[0m\u001b[0mcompile\u001b[0m\u001b[0;34m(\u001b[0m\u001b[0;34m'<a href=\"(https://www.uol.com.br/[^ ]*)\"'\u001b[0m\u001b[0;34m,\u001b[0m \u001b[0mre\u001b[0m\u001b[0;34m.\u001b[0m\u001b[0mDOTALL\u001b[0m\u001b[0;34m)\u001b[0m\u001b[0;34m\u001b[0m\u001b[0;34m\u001b[0m\u001b[0m\n\u001b[1;32m     17\u001b[0m   \u001b[0mreg\u001b[0m \u001b[0;34m=\u001b[0m \u001b[0mre\u001b[0m\u001b[0;34m.\u001b[0m\u001b[0mfindall\u001b[0m\u001b[0;34m(\u001b[0m\u001b[0mpattern\u001b[0m\u001b[0;34m,\u001b[0m \u001b[0mcontent\u001b[0m\u001b[0;34m)\u001b[0m\u001b[0;34m\u001b[0m\u001b[0;34m\u001b[0m\u001b[0m\n",
            "\u001b[0;32m/usr/lib/python3.6/http/client.py\u001b[0m in \u001b[0;36mread\u001b[0;34m(self, amt)\u001b[0m\n\u001b[1;32m    470\u001b[0m             \u001b[0;32melse\u001b[0m\u001b[0;34m:\u001b[0m\u001b[0;34m\u001b[0m\u001b[0;34m\u001b[0m\u001b[0m\n\u001b[1;32m    471\u001b[0m                 \u001b[0;32mtry\u001b[0m\u001b[0;34m:\u001b[0m\u001b[0;34m\u001b[0m\u001b[0;34m\u001b[0m\u001b[0m\n\u001b[0;32m--> 472\u001b[0;31m                     \u001b[0ms\u001b[0m \u001b[0;34m=\u001b[0m \u001b[0mself\u001b[0m\u001b[0;34m.\u001b[0m\u001b[0m_safe_read\u001b[0m\u001b[0;34m(\u001b[0m\u001b[0mself\u001b[0m\u001b[0;34m.\u001b[0m\u001b[0mlength\u001b[0m\u001b[0;34m)\u001b[0m\u001b[0;34m\u001b[0m\u001b[0;34m\u001b[0m\u001b[0m\n\u001b[0m\u001b[1;32m    473\u001b[0m                 \u001b[0;32mexcept\u001b[0m \u001b[0mIncompleteRead\u001b[0m\u001b[0;34m:\u001b[0m\u001b[0;34m\u001b[0m\u001b[0;34m\u001b[0m\u001b[0m\n\u001b[1;32m    474\u001b[0m                     \u001b[0mself\u001b[0m\u001b[0;34m.\u001b[0m\u001b[0m_close_conn\u001b[0m\u001b[0;34m(\u001b[0m\u001b[0;34m)\u001b[0m\u001b[0;34m\u001b[0m\u001b[0;34m\u001b[0m\u001b[0m\n",
            "\u001b[0;32m/usr/lib/python3.6/http/client.py\u001b[0m in \u001b[0;36m_safe_read\u001b[0;34m(self, amt)\u001b[0m\n\u001b[1;32m    620\u001b[0m         \u001b[0ms\u001b[0m \u001b[0;34m=\u001b[0m \u001b[0;34m[\u001b[0m\u001b[0;34m]\u001b[0m\u001b[0;34m\u001b[0m\u001b[0;34m\u001b[0m\u001b[0m\n\u001b[1;32m    621\u001b[0m         \u001b[0;32mwhile\u001b[0m \u001b[0mamt\u001b[0m \u001b[0;34m>\u001b[0m \u001b[0;36m0\u001b[0m\u001b[0;34m:\u001b[0m\u001b[0;34m\u001b[0m\u001b[0;34m\u001b[0m\u001b[0m\n\u001b[0;32m--> 622\u001b[0;31m             \u001b[0mchunk\u001b[0m \u001b[0;34m=\u001b[0m \u001b[0mself\u001b[0m\u001b[0;34m.\u001b[0m\u001b[0mfp\u001b[0m\u001b[0;34m.\u001b[0m\u001b[0mread\u001b[0m\u001b[0;34m(\u001b[0m\u001b[0mmin\u001b[0m\u001b[0;34m(\u001b[0m\u001b[0mamt\u001b[0m\u001b[0;34m,\u001b[0m \u001b[0mMAXAMOUNT\u001b[0m\u001b[0;34m)\u001b[0m\u001b[0;34m)\u001b[0m\u001b[0;34m\u001b[0m\u001b[0;34m\u001b[0m\u001b[0m\n\u001b[0m\u001b[1;32m    623\u001b[0m             \u001b[0;32mif\u001b[0m \u001b[0;32mnot\u001b[0m \u001b[0mchunk\u001b[0m\u001b[0;34m:\u001b[0m\u001b[0;34m\u001b[0m\u001b[0;34m\u001b[0m\u001b[0m\n\u001b[1;32m    624\u001b[0m                 \u001b[0;32mraise\u001b[0m \u001b[0mIncompleteRead\u001b[0m\u001b[0;34m(\u001b[0m\u001b[0;34mb''\u001b[0m\u001b[0;34m.\u001b[0m\u001b[0mjoin\u001b[0m\u001b[0;34m(\u001b[0m\u001b[0ms\u001b[0m\u001b[0;34m)\u001b[0m\u001b[0;34m,\u001b[0m \u001b[0mamt\u001b[0m\u001b[0;34m)\u001b[0m\u001b[0;34m\u001b[0m\u001b[0;34m\u001b[0m\u001b[0m\n",
            "\u001b[0;32m/usr/lib/python3.6/socket.py\u001b[0m in \u001b[0;36mreadinto\u001b[0;34m(self, b)\u001b[0m\n\u001b[1;32m    584\u001b[0m         \u001b[0;32mwhile\u001b[0m \u001b[0;32mTrue\u001b[0m\u001b[0;34m:\u001b[0m\u001b[0;34m\u001b[0m\u001b[0;34m\u001b[0m\u001b[0m\n\u001b[1;32m    585\u001b[0m             \u001b[0;32mtry\u001b[0m\u001b[0;34m:\u001b[0m\u001b[0;34m\u001b[0m\u001b[0;34m\u001b[0m\u001b[0m\n\u001b[0;32m--> 586\u001b[0;31m                 \u001b[0;32mreturn\u001b[0m \u001b[0mself\u001b[0m\u001b[0;34m.\u001b[0m\u001b[0m_sock\u001b[0m\u001b[0;34m.\u001b[0m\u001b[0mrecv_into\u001b[0m\u001b[0;34m(\u001b[0m\u001b[0mb\u001b[0m\u001b[0;34m)\u001b[0m\u001b[0;34m\u001b[0m\u001b[0;34m\u001b[0m\u001b[0m\n\u001b[0m\u001b[1;32m    587\u001b[0m             \u001b[0;32mexcept\u001b[0m \u001b[0mtimeout\u001b[0m\u001b[0;34m:\u001b[0m\u001b[0;34m\u001b[0m\u001b[0;34m\u001b[0m\u001b[0m\n\u001b[1;32m    588\u001b[0m                 \u001b[0mself\u001b[0m\u001b[0;34m.\u001b[0m\u001b[0m_timeout_occurred\u001b[0m \u001b[0;34m=\u001b[0m \u001b[0;32mTrue\u001b[0m\u001b[0;34m\u001b[0m\u001b[0;34m\u001b[0m\u001b[0m\n",
            "\u001b[0;32m/usr/lib/python3.6/ssl.py\u001b[0m in \u001b[0;36mrecv_into\u001b[0;34m(self, buffer, nbytes, flags)\u001b[0m\n\u001b[1;32m   1010\u001b[0m                   \u001b[0;34m\"non-zero flags not allowed in calls to recv_into() on %s\"\u001b[0m \u001b[0;34m%\u001b[0m\u001b[0;34m\u001b[0m\u001b[0;34m\u001b[0m\u001b[0m\n\u001b[1;32m   1011\u001b[0m                   self.__class__)\n\u001b[0;32m-> 1012\u001b[0;31m             \u001b[0;32mreturn\u001b[0m \u001b[0mself\u001b[0m\u001b[0;34m.\u001b[0m\u001b[0mread\u001b[0m\u001b[0;34m(\u001b[0m\u001b[0mnbytes\u001b[0m\u001b[0;34m,\u001b[0m \u001b[0mbuffer\u001b[0m\u001b[0;34m)\u001b[0m\u001b[0;34m\u001b[0m\u001b[0;34m\u001b[0m\u001b[0m\n\u001b[0m\u001b[1;32m   1013\u001b[0m         \u001b[0;32melse\u001b[0m\u001b[0;34m:\u001b[0m\u001b[0;34m\u001b[0m\u001b[0;34m\u001b[0m\u001b[0m\n\u001b[1;32m   1014\u001b[0m             \u001b[0;32mreturn\u001b[0m \u001b[0msocket\u001b[0m\u001b[0;34m.\u001b[0m\u001b[0mrecv_into\u001b[0m\u001b[0;34m(\u001b[0m\u001b[0mself\u001b[0m\u001b[0;34m,\u001b[0m \u001b[0mbuffer\u001b[0m\u001b[0;34m,\u001b[0m \u001b[0mnbytes\u001b[0m\u001b[0;34m,\u001b[0m \u001b[0mflags\u001b[0m\u001b[0;34m)\u001b[0m\u001b[0;34m\u001b[0m\u001b[0;34m\u001b[0m\u001b[0m\n",
            "\u001b[0;32m/usr/lib/python3.6/ssl.py\u001b[0m in \u001b[0;36mread\u001b[0;34m(self, len, buffer)\u001b[0m\n\u001b[1;32m    872\u001b[0m             \u001b[0;32mraise\u001b[0m \u001b[0mValueError\u001b[0m\u001b[0;34m(\u001b[0m\u001b[0;34m\"Read on closed or unwrapped SSL socket.\"\u001b[0m\u001b[0;34m)\u001b[0m\u001b[0;34m\u001b[0m\u001b[0;34m\u001b[0m\u001b[0m\n\u001b[1;32m    873\u001b[0m         \u001b[0;32mtry\u001b[0m\u001b[0;34m:\u001b[0m\u001b[0;34m\u001b[0m\u001b[0;34m\u001b[0m\u001b[0m\n\u001b[0;32m--> 874\u001b[0;31m             \u001b[0;32mreturn\u001b[0m \u001b[0mself\u001b[0m\u001b[0;34m.\u001b[0m\u001b[0m_sslobj\u001b[0m\u001b[0;34m.\u001b[0m\u001b[0mread\u001b[0m\u001b[0;34m(\u001b[0m\u001b[0mlen\u001b[0m\u001b[0;34m,\u001b[0m \u001b[0mbuffer\u001b[0m\u001b[0;34m)\u001b[0m\u001b[0;34m\u001b[0m\u001b[0;34m\u001b[0m\u001b[0m\n\u001b[0m\u001b[1;32m    875\u001b[0m         \u001b[0;32mexcept\u001b[0m \u001b[0mSSLError\u001b[0m \u001b[0;32mas\u001b[0m \u001b[0mx\u001b[0m\u001b[0;34m:\u001b[0m\u001b[0;34m\u001b[0m\u001b[0;34m\u001b[0m\u001b[0m\n\u001b[1;32m    876\u001b[0m             \u001b[0;32mif\u001b[0m \u001b[0mx\u001b[0m\u001b[0;34m.\u001b[0m\u001b[0margs\u001b[0m\u001b[0;34m[\u001b[0m\u001b[0;36m0\u001b[0m\u001b[0;34m]\u001b[0m \u001b[0;34m==\u001b[0m \u001b[0mSSL_ERROR_EOF\u001b[0m \u001b[0;32mand\u001b[0m \u001b[0mself\u001b[0m\u001b[0;34m.\u001b[0m\u001b[0msuppress_ragged_eofs\u001b[0m\u001b[0;34m:\u001b[0m\u001b[0;34m\u001b[0m\u001b[0;34m\u001b[0m\u001b[0m\n",
            "\u001b[0;32m/usr/lib/python3.6/ssl.py\u001b[0m in \u001b[0;36mread\u001b[0;34m(self, len, buffer)\u001b[0m\n\u001b[1;32m    629\u001b[0m         \"\"\"\n\u001b[1;32m    630\u001b[0m         \u001b[0;32mif\u001b[0m \u001b[0mbuffer\u001b[0m \u001b[0;32mis\u001b[0m \u001b[0;32mnot\u001b[0m \u001b[0;32mNone\u001b[0m\u001b[0;34m:\u001b[0m\u001b[0;34m\u001b[0m\u001b[0;34m\u001b[0m\u001b[0m\n\u001b[0;32m--> 631\u001b[0;31m             \u001b[0mv\u001b[0m \u001b[0;34m=\u001b[0m \u001b[0mself\u001b[0m\u001b[0;34m.\u001b[0m\u001b[0m_sslobj\u001b[0m\u001b[0;34m.\u001b[0m\u001b[0mread\u001b[0m\u001b[0;34m(\u001b[0m\u001b[0mlen\u001b[0m\u001b[0;34m,\u001b[0m \u001b[0mbuffer\u001b[0m\u001b[0;34m)\u001b[0m\u001b[0;34m\u001b[0m\u001b[0;34m\u001b[0m\u001b[0m\n\u001b[0m\u001b[1;32m    632\u001b[0m         \u001b[0;32melse\u001b[0m\u001b[0;34m:\u001b[0m\u001b[0;34m\u001b[0m\u001b[0;34m\u001b[0m\u001b[0m\n\u001b[1;32m    633\u001b[0m             \u001b[0mv\u001b[0m \u001b[0;34m=\u001b[0m \u001b[0mself\u001b[0m\u001b[0;34m.\u001b[0m\u001b[0m_sslobj\u001b[0m\u001b[0;34m.\u001b[0m\u001b[0mread\u001b[0m\u001b[0;34m(\u001b[0m\u001b[0mlen\u001b[0m\u001b[0;34m)\u001b[0m\u001b[0;34m\u001b[0m\u001b[0;34m\u001b[0m\u001b[0m\n",
            "\u001b[0;31mKeyboardInterrupt\u001b[0m: "
          ]
        }
      ]
    },
    {
      "cell_type": "code",
      "metadata": {
        "id": "Q6m_3rfhWXLo",
        "colab_type": "code",
        "outputId": "bd8898b5-5a55-47df-abf1-8583c7b80294",
        "colab": {
          "base_uri": "https://localhost:8080/",
          "height": 34
        }
      },
      "source": [
        "len(all_links)"
      ],
      "execution_count": 10,
      "outputs": [
        {
          "output_type": "execute_result",
          "data": {
            "text/plain": [
              "196"
            ]
          },
          "metadata": {
            "tags": []
          },
          "execution_count": 10
        }
      ]
    },
    {
      "cell_type": "markdown",
      "metadata": {
        "id": "YYYfz_OKvxGL",
        "colab_type": "text"
      },
      "source": [
        "# Extracting text\n"
      ]
    },
    {
      "cell_type": "markdown",
      "metadata": {
        "id": "LowYhoIj5AYW",
        "colab_type": "text"
      },
      "source": [
        "Based on tutorial https://www.jitsejan.com/using-scrapy-in-jupyter-notebook.html"
      ]
    },
    {
      "cell_type": "markdown",
      "metadata": {
        "id": "hXa3N77B3lB1",
        "colab_type": "text"
      },
      "source": [
        "### Setup a pipeline"
      ]
    },
    {
      "cell_type": "markdown",
      "metadata": {
        "id": "YMYGjOxs3m1I",
        "colab_type": "text"
      },
      "source": [
        "This class creates a simple pipeline that writes all found items to a JSON file, where each line contains one JSON element."
      ]
    },
    {
      "cell_type": "code",
      "metadata": {
        "id": "VlTzXaTi3npg",
        "colab_type": "code",
        "colab": {}
      },
      "source": [
        "import json\n",
        "\n",
        "class JsonWriterPipeline(object):\n",
        "\n",
        "    def open_spider(self, spider):\n",
        "        self.file = open('quoteresult.jl', 'w')\n",
        "\n",
        "    def close_spider(self, spider):\n",
        "        self.file.close()\n",
        "\n",
        "    def process_item(self, item, spider):\n",
        "        line = json.dumps(dict(item)) + \"\\n\"\n",
        "        self.file.write(line)\n",
        "        return item"
      ],
      "execution_count": 0,
      "outputs": []
    },
    {
      "cell_type": "markdown",
      "metadata": {
        "id": "f-9thBDw3-gQ",
        "colab_type": "text"
      },
      "source": [
        "### Define the spider"
      ]
    },
    {
      "cell_type": "code",
      "metadata": {
        "id": "CzFXrQ924Ev3",
        "colab_type": "code",
        "colab": {}
      },
      "source": [
        "import logging\n",
        "\n",
        "class QuotesSpider(scrapy.Spider):\n",
        "    name = \"quotes\"\n",
        "    start_urls = [\n",
        "        'http://quotes.toscrape.com/page/1/',\n",
        "        'http://quotes.toscrape.com/page/2/',\n",
        "    ]\n",
        "    custom_settings = {\n",
        "        'LOG_LEVEL': logging.WARNING,\n",
        "        'ITEM_PIPELINES': {'__main__.JsonWriterPipeline': 1}, # Used for pipeline 1\n",
        "        'FEED_FORMAT':'json',                                 # Used for pipeline 2\n",
        "        'FEED_URI': 'quoteresult.json'                        # Used for pipeline 2\n",
        "    }\n",
        "    \n",
        "    def parse(self, response):\n",
        "        for quote in response.css('div.quote'):\n",
        "            yield {\n",
        "                'text': quote.css('span.text::text').extract_first(),\n",
        "                'author': quote.css('span small::text').extract_first(),\n",
        "                'tags': quote.css('div.tags a.tag::text').extract(),\n",
        "            }"
      ],
      "execution_count": 0,
      "outputs": []
    },
    {
      "cell_type": "markdown",
      "metadata": {
        "id": "RonS6nmD4z-w",
        "colab_type": "text"
      },
      "source": [
        "### Start the crawler"
      ]
    },
    {
      "cell_type": "code",
      "metadata": {
        "id": "kupH5epP4wY3",
        "colab_type": "code",
        "colab": {
          "base_uri": "https://localhost:8080/",
          "height": 105
        },
        "outputId": "8a4b18b2-8745-4149-a2e8-c56d1b647444"
      },
      "source": [
        "process = CrawlerProcess({\n",
        "    'USER_AGENT': 'Mozilla/4.0 (compatible; MSIE 7.0; Windows NT 5.1)'\n",
        "})\n",
        "\n",
        "process.crawl(QuotesSpider)\n",
        "process.start()"
      ],
      "execution_count": 57,
      "outputs": [
        {
          "output_type": "stream",
          "text": [
            "2019-12-07 15:03:54 [scrapy.utils.log] INFO: Scrapy 1.8.0 started (bot: scrapybot)\n",
            "2019-12-07 15:03:54 [scrapy.utils.log] INFO: Versions: lxml 4.2.6.0, libxml2 2.9.8, cssselect 1.1.0, parsel 1.5.2, w3lib 1.21.0, Twisted 19.10.0, Python 3.6.9 (default, Nov  7 2019, 10:44:02) - [GCC 8.3.0], pyOpenSSL 19.1.0 (OpenSSL 1.1.1d  10 Sep 2019), cryptography 2.8, Platform Linux-4.14.137+-x86_64-with-Ubuntu-18.04-bionic\n",
            "2019-12-07 15:03:54 [scrapy.crawler] INFO: Overridden settings: {'FEED_FORMAT': 'json', 'FEED_URI': 'quoteresult.json', 'LOG_LEVEL': 30, 'USER_AGENT': 'Mozilla/4.0 (compatible; MSIE 7.0; Windows NT 5.1)'}\n"
          ],
          "name": "stderr"
        },
        {
          "output_type": "execute_result",
          "data": {
            "text/plain": [
              "<Deferred at 0x7f9c9e1e15c0>"
            ]
          },
          "metadata": {
            "tags": []
          },
          "execution_count": 57
        }
      ]
    },
    {
      "cell_type": "code",
      "metadata": {
        "id": "zS9-ksrE4686",
        "colab_type": "code",
        "colab": {
          "base_uri": "https://localhost:8080/",
          "height": 51
        },
        "outputId": "4440e958-5259-4527-9524-2bb84f5b3ab2"
      },
      "source": [
        "ll quoteresult.*"
      ],
      "execution_count": 58,
      "outputs": [
        {
          "output_type": "stream",
          "text": [
            "-rw-r--r-- 1 root 5551 Dec  7 15:03 quoteresult.jl\n",
            "-rw-r--r-- 1 root 5573 Dec  7 15:03 quoteresult.json\n"
          ],
          "name": "stdout"
        }
      ]
    },
    {
      "cell_type": "code",
      "metadata": {
        "id": "OV4sD2oN5GIv",
        "colab_type": "code",
        "colab": {
          "base_uri": "https://localhost:8080/",
          "height": 71
        },
        "outputId": "8eadc0e2-a047-4b6c-e8dc-83b5bb4f0881"
      },
      "source": [
        "!tail -n 2 quoteresult.jl"
      ],
      "execution_count": 59,
      "outputs": [
        {
          "output_type": "stream",
          "text": [
            "{\"text\": \"\\u201cA woman is like a tea bag; you never know how strong it is until it's in hot water.\\u201d\", \"author\": \"Eleanor Roosevelt\", \"tags\": [\"misattributed-eleanor-roosevelt\"]}\n",
            "{\"text\": \"\\u201cA day without sunshine is like, you know, night.\\u201d\", \"author\": \"Steve Martin\", \"tags\": [\"humor\", \"obvious\", \"simile\"]}\n"
          ],
          "name": "stdout"
        }
      ]
    },
    {
      "cell_type": "code",
      "metadata": {
        "id": "MpnfIYd25JzT",
        "colab_type": "code",
        "colab": {
          "base_uri": "https://localhost:8080/",
          "height": 51
        },
        "outputId": "a3839bfe-844e-44ad-842f-011bb04de5a3"
      },
      "source": [
        "!tail -n 2 quoteresult.json"
      ],
      "execution_count": 60,
      "outputs": [
        {
          "output_type": "stream",
          "text": [
            "{\"text\": \"\\u201cA day without sunshine is like, you know, night.\\u201d\", \"author\": \"Steve Martin\", \"tags\": [\"humor\", \"obvious\", \"simile\"]}\n",
            "]"
          ],
          "name": "stdout"
        }
      ]
    },
    {
      "cell_type": "markdown",
      "metadata": {
        "id": "tJsmq35Q36cv",
        "colab_type": "text"
      },
      "source": [
        "### Run for one page"
      ]
    },
    {
      "cell_type": "markdown",
      "metadata": {
        "id": "NL07u9f0yO6Q",
        "colab_type": "text"
      },
      "source": [
        "I'll do it just for one page for now"
      ]
    },
    {
      "cell_type": "code",
      "metadata": {
        "id": "pwrfWITM1-nZ",
        "colab_type": "code",
        "colab": {}
      },
      "source": [
        "class BlogSpider(scrapy.Spider):\n",
        "    name = 'blogspider'\n",
        "    start_urls = ['https://blog.scrapinghub.com']\n",
        "\n",
        "    def parse(self, response):\n",
        "        for title in response.css('.post-header>h2'):\n",
        "            yield {'title': title.css('a ::text').get()}\n",
        "\n",
        "        for next_page in response.css('a.next-posts-link'):\n",
        "            yield response.follow(next_page, self.parse)"
      ],
      "execution_count": 0,
      "outputs": []
    },
    {
      "cell_type": "code",
      "metadata": {
        "id": "5v9Oih3V26uZ",
        "colab_type": "code",
        "colab": {
          "base_uri": "https://localhost:8080/",
          "height": 173
        },
        "outputId": "f0488f4d-cc59-4bfa-cea6-6eff4a7f7cb7"
      },
      "source": [
        "!scrapy runspider myspider.py"
      ],
      "execution_count": 50,
      "outputs": [
        {
          "output_type": "stream",
          "text": [
            "2019-12-07 14:56:08 [scrapy.utils.log] INFO: Scrapy 1.8.0 started (bot: scrapybot)\n",
            "2019-12-07 14:56:08 [scrapy.utils.log] INFO: Versions: lxml 4.2.6.0, libxml2 2.9.8, cssselect 1.1.0, parsel 1.5.2, w3lib 1.21.0, Twisted 19.10.0, Python 3.6.9 (default, Nov  7 2019, 10:44:02) - [GCC 8.3.0], pyOpenSSL 19.1.0 (OpenSSL 1.1.1d  10 Sep 2019), cryptography 2.8, Platform Linux-4.14.137+-x86_64-with-Ubuntu-18.04-bionic\n",
            "Usage\n",
            "=====\n",
            "  scrapy runspider [options] <spider_file>\n",
            "\n",
            "runspider: error: File not found: myspider.py\n",
            "\n"
          ],
          "name": "stdout"
        }
      ]
    },
    {
      "cell_type": "code",
      "metadata": {
        "id": "qrmbo_KUvznL",
        "colab_type": "code",
        "colab": {}
      },
      "source": [
        "url = \"https://www1.folha.uol.com.br/poder/2019/12/cgu-diz-que-inexiste-documento-citado-por-bolsonaro-sobre-laranjas-do-psl.shtml\"\n",
        "link = opener.open(url)\n",
        "content = link.read().decode(\"utf-8\")\n"
      ],
      "execution_count": 0,
      "outputs": []
    },
    {
      "cell_type": "code",
      "metadata": {
        "id": "2US14w0WyWny",
        "colab_type": "code",
        "colab": {
          "base_uri": "https://localhost:8080/",
          "height": 54
        },
        "outputId": "dc527b0e-3f85-49c7-e654-f929df0d8ef3"
      },
      "source": [
        "content[:5000]"
      ],
      "execution_count": 34,
      "outputs": [
        {
          "output_type": "execute_result",
          "data": {
            "text/plain": [
              "'\\n\\n\\n\\n\\n\\n<!doctype html>\\n<html lang=\"pt-BR\" data-version=\"prod@a4ccb1b7\">\\n  <head>\\n    <meta charset=\"utf-8\">\\n    <meta http-equiv=\"X-UA-Compatible\" content=\"IE=edge\">\\n    <meta property=\"desliga:paywall\" content=\"false\">\\r\\n    <title>CGU diz que inexiste documento citado por Bolsonaro sobre laranjas do PSL - 07/12/2019 - Poder - Folha</title>\\n  <meta name=\"description\" content=\"Manifestação é resposta ao recurso feito pela Folha a partir de pedidos recusados por Moro dentro da Lei de Acesso à Informação\">\\n  <meta name=\"keywords\" content=\"PSL, Jair Bolsonaro, laranjas do PSL, Gustavo Bebianno, Luciano Bivar, governo bolsonaro, folha  \">\\n    <meta http-equiv=\"Content-Security-Policy\" content=\"upgrade-insecure-requests\">\\n  \\n      <link rel=\"canonical\" href=\"https://www1.folha.uol.com.br/poder/2019/12/cgu-diz-que-inexiste-documento-citado-por-bolsonaro-sobre-laranjas-do-psl.shtml\">\\n  \\n        <link rel=\"amphtml\" href=\"https://www1.folha.uol.com.br/amp/poder/2019/12/cgu-diz-que-inexiste-documento-citado-por-bolsonaro-sobre-laranjas-do-psl.shtml\">\\n  \\n    \\n  <!-- Open Graph Meta Tags -->\\n        <meta property=\"og:description\" content=\"Manifestação é resposta ao recurso feito pela Folha a partir de pedidos recusados por Moro dentro da Lei de Acesso à Informação\">\\n          <meta property=\"og:image\" content=\"https://f.i.uol.com.br/fotografia/2019/12/01/15752477175de45f65a4434_1575247717_3x2_rt.jpg\">\\n      <meta property=\"og:image:height\" content=\"1600\">\\n      <meta property=\"og:image:type\" content=\"image/jpeg\">\\n      <meta property=\"og:image:width\" content=\"2400\">\\n        <meta property=\"og:locale\" content=\"pt_BR\">\\n    <meta property=\"og:site_name\" content=\"Folha de S.Paulo\">\\n    <meta property=\"og:title\" content=\"CGU diz que inexiste documento citado por Bolsonaro sobre laranjas do PSL\">\\n    <meta property=\"og:type\" content=\"article\">\\n        <meta property=\"og:url\" content=\"https://www1.folha.uol.com.br/poder/2019/12/cgu-diz-que-inexiste-documento-citado-por-bolsonaro-sobre-laranjas-do-psl.shtml\">\\n    \\n  <meta property=\"article:published_time\" content=\"2019-12-07 02:00:00\">\\n  <meta property=\"article:modified_time\" content=\"2019-12-06 19:53:43\">\\n  <meta property=\"article:section\" content=\"Poder\">\\n  <meta property=\"article:tag\" content=\"Folha de S.Paulo\">\\n            <meta property=\"article:tag\" content=\"PSL\">\\n          <meta property=\"article:tag\" content=\"Jair Bolsonaro\">\\n          <meta property=\"article:tag\" content=\"laranjas do PSL\">\\n          <meta property=\"article:tag\" content=\"Gustavo Bebianno\">\\n          <meta property=\"article:tag\" content=\"Luciano Bivar\">\\n          <meta property=\"article:tag\" content=\"governo bolsonaro\">\\n        <!-- /Open Graph Meta Tags  -->\\n\\n  <!-- Twitter Meta Tags -->\\n            <meta name=\"twitter:card\" content=\"summary_large_image\">\\n      <meta name=\"twitter:image\" content=\"https://f.i.uol.com.br/fotografia/2019/12/01/15752477175de45f65a4434_1575247717_3x2_rt.jpg\">\\n        <meta name=\"twitter:creator\" content=\"folha\">\\n    <meta name=\"twitter:description\" content=\"Manifestação é resposta ao recurso feito pela Folha a partir de pedidos recusados por Moro dentro da Lei de Acesso à Informação\">\\n    <meta name=\"twitter:site\" content=\"folha\">\\n    <meta name=\"twitter:title\" content=\"CGU diz que inexiste documento citado por Bolsonaro sobre laranjas do PSL - 07/12/2019 - Poder - Folha\">\\n    <!-- /Twitter Meta Tags -->\\n  \\n\\n\\n  \\n    <meta name=\"viewport\" content=\"width=device-width, initial-scale=1\">\\n  <meta name=\"mobile-web-app-capable\" content=\"yes\">\\n\\n  <link rel=\"manifest\" href=\"/manifest.json\">\\n\\n  <link rel=\"apple-touch-icon\" href=\"//f.i.uol.com.br/hunting/folha/1/common/icons/apple-touch-icon.png\">\\n  <link rel=\"apple-touch-icon\" sizes=\"76x76\" href=\"//f.i.uol.com.br/hunting/folha/1/common/icons/touch-icon-ipad.png\">\\n  <link rel=\"apple-touch-icon\" sizes=\"120x120\" href=\"//f.i.uol.com.br/hunting/folha/1/common/icons/touch-icon-iphone-retina.png\">\\n  <link rel=\"apple-touch-icon\" sizes=\"152x152\" href=\"//f.i.uol.com.br/hunting/folha/1/common/icons/touch-icon-ipad-retina.png\">\\n\\n  <link rel=\"apple-touch-startup-image\" href=\"//f.i.uol.com.br/hunting/folha/1/common/splash/launch-640x1136.png\" media=\"(device-width: 320px) and (device-height: 568px) and (-webkit-device-pixel-ratio: 2) and (orientation: portrait)\">\\n  <link rel=\"apple-touch-startup-image\" href=\"//f.i.uol.com.br/hunting/folha/1/common/splash/launch-750x1294.png\" media=\"(device-width: 375px) and (device-height: 667px) and (-webkit-device-pixel-ratio: 2) and (orientation: portrait)\">\\n  <link rel=\"apple-touch-startup-image\" href=\"//f.i.uol.com.br/hunting/folha/1/common/splash/launch-1242x2148.png\" media=\"(device-width: 414px) and (device-height: 736px) and (-webkit-device-pixel-ratio: 3) and (orientation: portrait)\">\\n  <link rel=\"apple-touch-startup-image\" href=\"//f.i.uol.com.br/hunting/folha/1/common/splash/launch-1125x2436.png\" media=\"(device-width: 375px) and (device-height: 812px) and (-webkit-device-pixel-ratio: 3) and (orientation: p'"
            ]
          },
          "metadata": {
            "tags": []
          },
          "execution_count": 34
        }
      ]
    },
    {
      "cell_type": "code",
      "metadata": {
        "id": "_d2e7iD0zApT",
        "colab_type": "code",
        "colab": {}
      },
      "source": [
        "pattern = re.compile('<body>(.*)</body>', re.DOTALL)\n",
        "reg = re.findall(pattern, content)"
      ],
      "execution_count": 0,
      "outputs": []
    },
    {
      "cell_type": "code",
      "metadata": {
        "id": "D8hUGhe8zav-",
        "colab_type": "code",
        "colab": {}
      },
      "source": [
        "reg = \"<div>\" + reg[0] + \"</div>\""
      ],
      "execution_count": 0,
      "outputs": []
    },
    {
      "cell_type": "code",
      "metadata": {
        "id": "FHfnq9ybyN8L",
        "colab_type": "code",
        "colab": {
          "base_uri": "https://localhost:8080/",
          "height": 351
        },
        "outputId": "9c335e83-d73d-43d4-8d87-f179984035d5"
      },
      "source": [
        "page = fragment_fromstring(content); page\n",
        "\n",
        "# pattern = re.compile('<a href=\"(https://www.uol.com.br/[^ ]*)\"', re.DOTALL)\n",
        "# reg = re.findall(pattern, content)\n",
        "# possible_classes = [\"c-news__content\"]\n"
      ],
      "execution_count": 41,
      "outputs": [
        {
          "output_type": "error",
          "ename": "ParserError",
          "evalue": "ignored",
          "traceback": [
            "\u001b[0;31m---------------------------------------------------------------------------\u001b[0m",
            "\u001b[0;31mParserError\u001b[0m                               Traceback (most recent call last)",
            "\u001b[0;32m<ipython-input-41-9b4d8794c5da>\u001b[0m in \u001b[0;36m<module>\u001b[0;34m()\u001b[0m\n\u001b[0;32m----> 1\u001b[0;31m \u001b[0mpage\u001b[0m \u001b[0;34m=\u001b[0m \u001b[0mfragment_fromstring\u001b[0m\u001b[0;34m(\u001b[0m\u001b[0mcontent\u001b[0m\u001b[0;34m)\u001b[0m\u001b[0;34m;\u001b[0m \u001b[0mpage\u001b[0m\u001b[0;34m\u001b[0m\u001b[0;34m\u001b[0m\u001b[0m\n\u001b[0m\u001b[1;32m      2\u001b[0m \u001b[0;34m\u001b[0m\u001b[0m\n\u001b[1;32m      3\u001b[0m \u001b[0;31m# pattern = re.compile('<a href=\"(https://www.uol.com.br/[^ ]*)\"', re.DOTALL)\u001b[0m\u001b[0;34m\u001b[0m\u001b[0;34m\u001b[0m\u001b[0;34m\u001b[0m\u001b[0m\n\u001b[1;32m      4\u001b[0m \u001b[0;31m# reg = re.findall(pattern, content)\u001b[0m\u001b[0;34m\u001b[0m\u001b[0;34m\u001b[0m\u001b[0;34m\u001b[0m\u001b[0m\n\u001b[1;32m      5\u001b[0m \u001b[0;31m# possible_classes = [\"c-news__content\"]\u001b[0m\u001b[0;34m\u001b[0m\u001b[0;34m\u001b[0m\u001b[0;34m\u001b[0m\u001b[0m\n",
            "\u001b[0;32m/usr/local/lib/python3.6/dist-packages/lxml/html/__init__.py\u001b[0m in \u001b[0;36mfragment_fromstring\u001b[0;34m(html, create_parent, base_url, parser, **kw)\u001b[0m\n\u001b[1;32m    849\u001b[0m         raise etree.ParserError(\n\u001b[1;32m    850\u001b[0m             \u001b[0;34m\"Multiple elements found (%s)\"\u001b[0m\u001b[0;34m\u001b[0m\u001b[0;34m\u001b[0m\u001b[0m\n\u001b[0;32m--> 851\u001b[0;31m             % ', '.join([_element_name(e) for e in elements]))\n\u001b[0m\u001b[1;32m    852\u001b[0m     \u001b[0mel\u001b[0m \u001b[0;34m=\u001b[0m \u001b[0melements\u001b[0m\u001b[0;34m[\u001b[0m\u001b[0;36m0\u001b[0m\u001b[0;34m]\u001b[0m\u001b[0;34m\u001b[0m\u001b[0;34m\u001b[0m\u001b[0m\n\u001b[1;32m    853\u001b[0m     \u001b[0;32mif\u001b[0m \u001b[0mel\u001b[0m\u001b[0;34m.\u001b[0m\u001b[0mtail\u001b[0m \u001b[0;32mand\u001b[0m \u001b[0mel\u001b[0m\u001b[0;34m.\u001b[0m\u001b[0mtail\u001b[0m\u001b[0;34m.\u001b[0m\u001b[0mstrip\u001b[0m\u001b[0;34m(\u001b[0m\u001b[0;34m)\u001b[0m\u001b[0;34m:\u001b[0m\u001b[0;34m\u001b[0m\u001b[0;34m\u001b[0m\u001b[0m\n",
            "\u001b[0;31mParserError\u001b[0m: Multiple elements found (div, comment, comment, script, comment, script, script, script, script, div)"
          ]
        }
      ]
    },
    {
      "cell_type": "code",
      "metadata": {
        "id": "s7luQewsyxit",
        "colab_type": "code",
        "colab": {}
      },
      "source": [
        ""
      ],
      "execution_count": 0,
      "outputs": []
    }
  ]
}