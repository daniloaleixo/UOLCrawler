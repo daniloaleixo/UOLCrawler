{
  "nbformat": 4,
  "nbformat_minor": 0,
  "metadata": {
    "colab": {
      "name": "generalCrawler.ipynb",
      "provenance": [],
      "collapsed_sections": [],
      "include_colab_link": true
    },
    "kernelspec": {
      "name": "python3",
      "display_name": "Python 3"
    },
    "accelerator": "GPU"
  },
  "cells": [
    {
      "cell_type": "markdown",
      "metadata": {
        "id": "view-in-github",
        "colab_type": "text"
      },
      "source": [
        "<a href=\"https://colab.research.google.com/github/daniloaleixo/generalCrawler/blob/master/generalCrawler.ipynb\" target=\"_parent\"><img src=\"https://colab.research.google.com/assets/colab-badge.svg\" alt=\"Open In Colab\"/></a>"
      ]
    },
    {
      "cell_type": "markdown",
      "metadata": {
        "id": "4S7osIjTQK0D",
        "colab_type": "text"
      },
      "source": [
        "# General Crawler\n",
        " "
      ]
    },
    {
      "cell_type": "markdown",
      "metadata": {
        "id": "U7jU0PJ7DLA8",
        "colab_type": "text"
      },
      "source": [
        "## Configs"
      ]
    },
    {
      "cell_type": "code",
      "metadata": {
        "colab_type": "code",
        "outputId": "b528b7b3-5209-4db3-d229-e06821b727c2",
        "id": "S3FX2bnBDHKs",
        "colab": {
          "base_uri": "https://localhost:8080/",
          "height": 34
        }
      },
      "source": [
        "# Settings for notebook\n",
        "from IPython.core.interactiveshell import InteractiveShell\n",
        "InteractiveShell.ast_node_interactivity = \"all\"\n",
        "# Show Python version\n",
        "import platform\n",
        "import pandas as pd\n",
        "platform.python_version()"
      ],
      "execution_count": 15,
      "outputs": [
        {
          "output_type": "execute_result",
          "data": {
            "text/plain": [
              "'3.6.9'"
            ]
          },
          "metadata": {
            "tags": []
          },
          "execution_count": 15
        }
      ]
    },
    {
      "cell_type": "code",
      "metadata": {
        "colab_type": "code",
        "id": "5RtgAQHZDG8u",
        "colab": {}
      },
      "source": [
        "# Import scrapy\n",
        "try:\n",
        "    import scrapy\n",
        "except:\n",
        "    !pip install scrapy\n",
        "    import scrapy\n",
        "from scrapy.crawler import CrawlerProcess"
      ],
      "execution_count": 0,
      "outputs": []
    },
    {
      "cell_type": "code",
      "metadata": {
        "colab_type": "code",
        "id": "o1CtxxmxDGsc",
        "colab": {}
      },
      "source": [
        "%reload_ext autoreload\n",
        "%autoreload 2\n",
        "%matplotlib inline\n",
        "\n",
        "import re\n",
        "import lxml\n",
        "import urllib.request\n",
        "import urllib.parse\n",
        "import http.cookiejar\n",
        "from lxml.html import fragment_fromstring\n",
        "import scrapy"
      ],
      "execution_count": 0,
      "outputs": []
    },
    {
      "cell_type": "markdown",
      "metadata": {
        "id": "-XUr7S-Z-Wwi",
        "colab_type": "text"
      },
      "source": [
        "## More advanced spider"
      ]
    },
    {
      "cell_type": "code",
      "metadata": {
        "id": "6B8m4t2Q-ZeQ",
        "colab_type": "code",
        "colab": {}
      },
      "source": [
        "start_urls = ['http://ekurd.net/all-news']  \n"
      ],
      "execution_count": 0,
      "outputs": []
    },
    {
      "cell_type": "code",
      "metadata": {
        "id": "t-H8FGKJ-bEM",
        "colab_type": "code",
        "colab": {}
      },
      "source": [
        "TITLE_SELECTOR = 'h2 a ::text'        # This is where the title is stored \n",
        "URL_SELECTOR = 'h2 a ::attr(href)'    # This is where the url to the actual article is stored \n",
        "DESCRIP_SELECTOR = 'p ::text'         # This is where the article description is stored \n",
        "DATE_SELECTOR = 'aside a time::text'  # This is where the publication date is stored"
      ],
      "execution_count": 0,
      "outputs": []
    },
    {
      "cell_type": "code",
      "metadata": {
        "id": "bbIyRToS-dQh",
        "colab_type": "code",
        "colab": {}
      },
      "source": [
        "SET_SELECTOR = '.entry-list'          # This is the article class all the other tags fall under\n"
      ],
      "execution_count": 0,
      "outputs": []
    },
    {
      "cell_type": "code",
      "metadata": {
        "id": "gbqS-nF8A_Ct",
        "colab_type": "code",
        "colab": {
          "base_uri": "https://localhost:8080/",
          "height": 34
        },
        "outputId": "803135bb-06ee-48ca-b57c-2fc92738806a"
      },
      "source": [
        "! touch data/test.csv"
      ],
      "execution_count": 7,
      "outputs": [
        {
          "output_type": "stream",
          "text": [
            "mkdir: cannot create directory ‘data’: File exists\n"
          ],
          "name": "stdout"
        }
      ]
    },
    {
      "cell_type": "code",
      "metadata": {
        "id": "_x8tS66BA4tr",
        "colab_type": "code",
        "colab": {}
      },
      "source": [
        "file = open('data/test.csv', 'w')"
      ],
      "execution_count": 0,
      "outputs": []
    },
    {
      "cell_type": "code",
      "metadata": {
        "id": "Ad2kn9k9-fMj",
        "colab_type": "code",
        "colab": {}
      },
      "source": [
        "class BrickSetSpider(scrapy.Spider):\n",
        "\n",
        "    name = 'ekurd_spider'\n",
        "    start_urls = ['http://ekurd.net/all-news']\n",
        "\n",
        "    # Here we can initialize the script\n",
        "    def __init__(self):\n",
        "    \n",
        "        # Create an empty Pandas dataframe, and an empty list per variable\n",
        "        self.out = pd.DataFrame(columns=['date', 'title', 'description', 'url'])\n",
        "        self.dates = []\n",
        "        self.titles = []\n",
        "        self.descrips = []\n",
        "        self.urls = []\n",
        "\n",
        "\n",
        "    def parse(self, response):\n",
        "\n",
        "        SET_SELECTOR = '.entry-list'\n",
        "        \n",
        "        for news in response.css(SET_SELECTOR):\n",
        "\n",
        "            DATE_SELECTOR = 'aside a time::text'\n",
        "            TITLE_SELECTOR = 'h2 a ::text'\n",
        "            DESCRIP_SELECTOR = 'p ::text'\n",
        "            URL_SELECTOR = 'h2 a ::attr(href)'\n",
        "\n",
        "            # We extract the data from each variable and save it in the corresponding list\n",
        "            self.dates.append(news.css(DATE_SELECTOR).extract())\n",
        "            self.titles.append(news.css(TITLE_SELECTOR).extract())\n",
        "            self.descrips.append(news.css(DESCRIP_SELECTOR).extract_first())\n",
        "            self.urls.append(news.css(URL_SELECTOR).extract())\n",
        "        \n",
        "        # Once the lists are complete (the entire page has been scraped) we save it to\n",
        "        # a temporary dataframe (out2) that will be later concatenated with our main dataframe (out)\n",
        "        \n",
        "        # Create the temporary dataframe\n",
        "        out2 = pd.DataFrame(columns=['date', 'title', 'description', 'url'])\n",
        "        \n",
        "        # Save each list to the dataframe\n",
        "        out2['date'] = self.dates\n",
        "        out2['title'] = self.titles\n",
        "        out2['description'] = self.descrips\n",
        "        out2['url'] = self.urls\n",
        "        \n",
        "        # Ensure type is string (useful to bypass any non properly formatted date time and other possible errors)\n",
        "        for c in out2.columns:\n",
        "            out2[c] = out2[c].astype(str)\n",
        "        \n",
        "        # Merge it with our main dataframe (out)\n",
        "        self.out = pd.concat([self.out, out2], axis=0)\n",
        "        \n",
        "        # Save it to file\n",
        "        self.out.to_csv('data/test.csv')"
      ],
      "execution_count": 0,
      "outputs": []
    },
    {
      "cell_type": "code",
      "metadata": {
        "id": "LkbEUUqB-jvZ",
        "colab_type": "code",
        "colab": {
          "base_uri": "https://localhost:8080/",
          "height": 1000
        },
        "outputId": "bd92dacd-8a86-4a82-8c14-d6978a65bce4"
      },
      "source": [
        "process = CrawlerProcess({\n",
        "    'USER_AGENT': 'Mozilla/4.0 (compatible; MSIE 7.0; Windows NT 5.1)'\n",
        "})\n",
        "\n",
        "process.crawl(BrickSetSpider)\n",
        "process.start()"
      ],
      "execution_count": 10,
      "outputs": [
        {
          "output_type": "stream",
          "text": [
            "2019-12-09 00:18:20 [scrapy.utils.log] INFO: Scrapy 1.8.0 started (bot: scrapybot)\n",
            "2019-12-09 00:18:20 [scrapy.utils.log] INFO: Versions: lxml 4.2.6.0, libxml2 2.9.8, cssselect 1.1.0, parsel 1.5.2, w3lib 1.21.0, Twisted 19.10.0, Python 3.6.9 (default, Nov  7 2019, 10:44:02) - [GCC 8.3.0], pyOpenSSL 19.1.0 (OpenSSL 1.1.1d  10 Sep 2019), cryptography 2.8, Platform Linux-4.14.137+-x86_64-with-Ubuntu-18.04-bionic\n",
            "2019-12-09 00:18:20 [scrapy.crawler] INFO: Overridden settings: {'USER_AGENT': 'Mozilla/4.0 (compatible; MSIE 7.0; Windows NT 5.1)'}\n",
            "2019-12-09 00:18:20 [scrapy.extensions.telnet] INFO: Telnet Password: 8482b8b29826d64b\n",
            "2019-12-09 00:18:20 [scrapy.middleware] INFO: Enabled extensions:\n",
            "['scrapy.extensions.corestats.CoreStats',\n",
            " 'scrapy.extensions.telnet.TelnetConsole',\n",
            " 'scrapy.extensions.memusage.MemoryUsage',\n",
            " 'scrapy.extensions.logstats.LogStats']\n",
            "2019-12-09 00:18:21 [scrapy.middleware] INFO: Enabled downloader middlewares:\n",
            "['scrapy.downloadermiddlewares.httpauth.HttpAuthMiddleware',\n",
            " 'scrapy.downloadermiddlewares.downloadtimeout.DownloadTimeoutMiddleware',\n",
            " 'scrapy.downloadermiddlewares.defaultheaders.DefaultHeadersMiddleware',\n",
            " 'scrapy.downloadermiddlewares.useragent.UserAgentMiddleware',\n",
            " 'scrapy.downloadermiddlewares.retry.RetryMiddleware',\n",
            " 'scrapy.downloadermiddlewares.redirect.MetaRefreshMiddleware',\n",
            " 'scrapy.downloadermiddlewares.httpcompression.HttpCompressionMiddleware',\n",
            " 'scrapy.downloadermiddlewares.redirect.RedirectMiddleware',\n",
            " 'scrapy.downloadermiddlewares.cookies.CookiesMiddleware',\n",
            " 'scrapy.downloadermiddlewares.httpproxy.HttpProxyMiddleware',\n",
            " 'scrapy.downloadermiddlewares.stats.DownloaderStats']\n",
            "2019-12-09 00:18:21 [scrapy.middleware] INFO: Enabled spider middlewares:\n",
            "['scrapy.spidermiddlewares.httperror.HttpErrorMiddleware',\n",
            " 'scrapy.spidermiddlewares.offsite.OffsiteMiddleware',\n",
            " 'scrapy.spidermiddlewares.referer.RefererMiddleware',\n",
            " 'scrapy.spidermiddlewares.urllength.UrlLengthMiddleware',\n",
            " 'scrapy.spidermiddlewares.depth.DepthMiddleware']\n",
            "2019-12-09 00:18:21 [scrapy.middleware] INFO: Enabled item pipelines:\n",
            "[]\n",
            "2019-12-09 00:18:21 [scrapy.core.engine] INFO: Spider opened\n",
            "2019-12-09 00:18:21 [scrapy.extensions.logstats] INFO: Crawled 0 pages (at 0 pages/min), scraped 0 items (at 0 items/min)\n",
            "2019-12-09 00:18:21 [scrapy.extensions.telnet] INFO: Telnet console listening on 127.0.0.1:6023\n"
          ],
          "name": "stderr"
        },
        {
          "output_type": "execute_result",
          "data": {
            "text/plain": [
              "<Deferred at 0x7f4cf3f95a90>"
            ]
          },
          "metadata": {
            "tags": []
          },
          "execution_count": 10
        },
        {
          "output_type": "stream",
          "text": [
            "2019-12-09 00:18:21 [scrapy.downloadermiddlewares.redirect] DEBUG: Redirecting (301) to <GET https://ekurd.net/all-news> from <GET http://ekurd.net/all-news>\n",
            "2019-12-09 00:18:21 [scrapy.core.engine] DEBUG: Crawled (200) <GET https://ekurd.net/all-news> (referer: None)\n",
            "2019-12-09 00:18:21 [scrapy.core.engine] INFO: Closing spider (finished)\n",
            "2019-12-09 00:18:21 [scrapy.statscollectors] INFO: Dumping Scrapy stats:\n",
            "{'downloader/request_bytes': 526,\n",
            " 'downloader/request_count': 2,\n",
            " 'downloader/request_method_count/GET': 2,\n",
            " 'downloader/response_bytes': 23793,\n",
            " 'downloader/response_count': 2,\n",
            " 'downloader/response_status_count/200': 1,\n",
            " 'downloader/response_status_count/301': 1,\n",
            " 'elapsed_time_seconds': 0.771634,\n",
            " 'finish_reason': 'finished',\n",
            " 'finish_time': datetime.datetime(2019, 12, 9, 0, 18, 21, 789754),\n",
            " 'log_count/DEBUG': 2,\n",
            " 'log_count/INFO': 10,\n",
            " 'memusage/max': 180555776,\n",
            " 'memusage/startup': 180555776,\n",
            " 'response_received_count': 1,\n",
            " 'scheduler/dequeued': 2,\n",
            " 'scheduler/dequeued/memory': 2,\n",
            " 'scheduler/enqueued': 2,\n",
            " 'scheduler/enqueued/memory': 2,\n",
            " 'start_time': datetime.datetime(2019, 12, 9, 0, 18, 21, 18120)}\n",
            "2019-12-09 00:18:21 [scrapy.core.engine] INFO: Spider closed (finished)\n"
          ],
          "name": "stderr"
        }
      ]
    },
    {
      "cell_type": "code",
      "metadata": {
        "id": "lBXDuzXY-5xd",
        "colab_type": "code",
        "colab": {
          "base_uri": "https://localhost:8080/",
          "height": 34
        },
        "outputId": "fea11f87-d87b-4b3f-8390-fdd658f83ba5"
      },
      "source": [
        "!ls"
      ],
      "execution_count": 11,
      "outputs": [
        {
          "output_type": "stream",
          "text": [
            "data  quoteresult.jl  quoteresult.json\tsample_data\n"
          ],
          "name": "stdout"
        }
      ]
    },
    {
      "cell_type": "code",
      "metadata": {
        "id": "DJtToZlEAy9-",
        "colab_type": "code",
        "colab": {
          "base_uri": "https://localhost:8080/",
          "height": 207
        },
        "outputId": "f7421467-d2be-4e2c-d14e-12c18f65353d"
      },
      "source": [
        "! tail data/test.csv"
      ],
      "execution_count": 12,
      "outputs": [
        {
          "output_type": "stream",
          "text": [
            "4,\"['December 6, 2019']\",\"['Sistani says no foreign meddling to choose new Iraqi PM, in nod to Iran']\",\"\r\n",
            "                        BAGHDAD,— Iraq’s top Shi’ite Muslim cleric said on Friday that a new prime minister must be chosen without foreign interference in an apparent nod to …                    \",['https://ekurd.net/sistani-says-no-foreign-meddling-2019-12-06']\n",
            "5,\"['December 6, 2019']\",\"['Gas explosion in Iranian Kurdistan kills at least 11, injures dozens']\",\"\r\n",
            "                        SEQIZ, Iranian Kurdistan,— At least 11 people were killed and dozens were injured in a gas explosion in Iran’s western Kurdistan province (Iranian …                    \",['https://ekurd.net/gas-explosion-iranian-kurdistan-2019-12-06']\n",
            "6,\"['December 6, 2019']\",['Iraqi parliament passes law reforming electoral IHEC commission'],\"\r\n",
            "                        BAGHDAD,— Iraq’s parliament on Thursday passed the law of the Independent High Electoral Commission (IHEC), as part of efforts by the Iraqi government …                    \",['https://ekurd.net/iraqi-parliament-passes-law-2019-12-06']\n",
            "7,\"['December 6, 2019']\",['Business Solutions That Makes Management a Whole Lot Easier'],\"\r\n",
            "                        On a day-to-day basis, we’re exposed to newer technologies that have changed the way we live. Disruptive technology, like Artificial Intelligence (AI) and …                    \",['https://ekurd.net/business-solutions-management-2019-12-06']\n",
            "8,\"['December 6, 2019']\",['Importance of Digital Invoice To Your Business'],\"\r\n",
            "                        Introducing technology to the business world was the best thing that ever happened to the latter. Profits tripled and quadrupled, and companies started taking …                    \",['https://ekurd.net/importance-digital-invoice-business-2019-12-06']\n"
          ],
          "name": "stdout"
        }
      ]
    },
    {
      "cell_type": "code",
      "metadata": {
        "id": "dcg1mWETBhm4",
        "colab_type": "code",
        "colab": {}
      },
      "source": [
        "test = pd.read_csv(\"data/test.csv\")"
      ],
      "execution_count": 0,
      "outputs": []
    },
    {
      "cell_type": "code",
      "metadata": {
        "id": "xfDCFlClCWvC",
        "colab_type": "code",
        "colab": {
          "base_uri": "https://localhost:8080/",
          "height": 328
        },
        "outputId": "3a8687ed-5802-40fc-e5f2-7802f586cebf"
      },
      "source": [
        "test"
      ],
      "execution_count": 14,
      "outputs": [
        {
          "output_type": "execute_result",
          "data": {
            "text/html": [
              "<div>\n",
              "<style scoped>\n",
              "    .dataframe tbody tr th:only-of-type {\n",
              "        vertical-align: middle;\n",
              "    }\n",
              "\n",
              "    .dataframe tbody tr th {\n",
              "        vertical-align: top;\n",
              "    }\n",
              "\n",
              "    .dataframe thead th {\n",
              "        text-align: right;\n",
              "    }\n",
              "</style>\n",
              "<table border=\"1\" class=\"dataframe\">\n",
              "  <thead>\n",
              "    <tr style=\"text-align: right;\">\n",
              "      <th></th>\n",
              "      <th>Unnamed: 0</th>\n",
              "      <th>date</th>\n",
              "      <th>title</th>\n",
              "      <th>description</th>\n",
              "      <th>url</th>\n",
              "    </tr>\n",
              "  </thead>\n",
              "  <tbody>\n",
              "    <tr>\n",
              "      <th>0</th>\n",
              "      <td>0</td>\n",
              "      <td>['December 8, 2019']</td>\n",
              "      <td>['Masrour Barzani outlines Kurdistan cabinet’s...</td>\n",
              "      <td>\\r\\n                        HEWLÊR-Erbil, Iraq...</td>\n",
              "      <td>['https://ekurd.net/masrour-barzani-outlines-p...</td>\n",
              "    </tr>\n",
              "    <tr>\n",
              "      <th>1</th>\n",
              "      <td>1</td>\n",
              "      <td>['December 8, 2019']</td>\n",
              "      <td>['Drone hits Iraqi cleric Muqtada Sadr’s home ...</td>\n",
              "      <td>\\r\\n                        BAGHDAD,— An armed...</td>\n",
              "      <td>['https://ekurd.net/drone-hits-iraqi-cleric-mu...</td>\n",
              "    </tr>\n",
              "    <tr>\n",
              "      <th>2</th>\n",
              "      <td>2</td>\n",
              "      <td>['December 7, 2019']</td>\n",
              "      <td>['Citizenship and Identity – Part V']</td>\n",
              "      <td>\\r\\n                        Dr. Sorran Arasan ...</td>\n",
              "      <td>['https://ekurd.net/citizenship-and-identity-p...</td>\n",
              "    </tr>\n",
              "    <tr>\n",
              "      <th>3</th>\n",
              "      <td>3</td>\n",
              "      <td>['December 7, 2019']</td>\n",
              "      <td>['4 Challenges of Being an Insurance Agent and...</td>\n",
              "      <td>\\r\\n                        As with any job, b...</td>\n",
              "      <td>['https://ekurd.net/challenges-insurance-agent...</td>\n",
              "    </tr>\n",
              "    <tr>\n",
              "      <th>4</th>\n",
              "      <td>4</td>\n",
              "      <td>['December 6, 2019']</td>\n",
              "      <td>['Sistani says no foreign meddling to choose n...</td>\n",
              "      <td>\\r\\n                        BAGHDAD,— Iraq’s t...</td>\n",
              "      <td>['https://ekurd.net/sistani-says-no-foreign-me...</td>\n",
              "    </tr>\n",
              "    <tr>\n",
              "      <th>5</th>\n",
              "      <td>5</td>\n",
              "      <td>['December 6, 2019']</td>\n",
              "      <td>['Gas explosion in Iranian Kurdistan kills at ...</td>\n",
              "      <td>\\r\\n                        SEQIZ, Iranian Kur...</td>\n",
              "      <td>['https://ekurd.net/gas-explosion-iranian-kurd...</td>\n",
              "    </tr>\n",
              "    <tr>\n",
              "      <th>6</th>\n",
              "      <td>6</td>\n",
              "      <td>['December 6, 2019']</td>\n",
              "      <td>['Iraqi parliament passes law reforming electo...</td>\n",
              "      <td>\\r\\n                        BAGHDAD,— Iraq’s p...</td>\n",
              "      <td>['https://ekurd.net/iraqi-parliament-passes-la...</td>\n",
              "    </tr>\n",
              "    <tr>\n",
              "      <th>7</th>\n",
              "      <td>7</td>\n",
              "      <td>['December 6, 2019']</td>\n",
              "      <td>['Business Solutions That Makes Management a W...</td>\n",
              "      <td>\\r\\n                        On a day-to-day ba...</td>\n",
              "      <td>['https://ekurd.net/business-solutions-managem...</td>\n",
              "    </tr>\n",
              "    <tr>\n",
              "      <th>8</th>\n",
              "      <td>8</td>\n",
              "      <td>['December 6, 2019']</td>\n",
              "      <td>['Importance of Digital Invoice To Your Busine...</td>\n",
              "      <td>\\r\\n                        Introducing techno...</td>\n",
              "      <td>['https://ekurd.net/importance-digital-invoice...</td>\n",
              "    </tr>\n",
              "  </tbody>\n",
              "</table>\n",
              "</div>"
            ],
            "text/plain": [
              "   Unnamed: 0  ...                                                url\n",
              "0           0  ...  ['https://ekurd.net/masrour-barzani-outlines-p...\n",
              "1           1  ...  ['https://ekurd.net/drone-hits-iraqi-cleric-mu...\n",
              "2           2  ...  ['https://ekurd.net/citizenship-and-identity-p...\n",
              "3           3  ...  ['https://ekurd.net/challenges-insurance-agent...\n",
              "4           4  ...  ['https://ekurd.net/sistani-says-no-foreign-me...\n",
              "5           5  ...  ['https://ekurd.net/gas-explosion-iranian-kurd...\n",
              "6           6  ...  ['https://ekurd.net/iraqi-parliament-passes-la...\n",
              "7           7  ...  ['https://ekurd.net/business-solutions-managem...\n",
              "8           8  ...  ['https://ekurd.net/importance-digital-invoice...\n",
              "\n",
              "[9 rows x 5 columns]"
            ]
          },
          "metadata": {
            "tags": []
          },
          "execution_count": 14
        }
      ]
    }
  ]
}