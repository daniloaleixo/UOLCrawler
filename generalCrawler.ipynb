{
  "nbformat": 4,
  "nbformat_minor": 0,
  "metadata": {
    "colab": {
      "name": "generalCrawler.ipynb",
      "provenance": [],
      "collapsed_sections": [],
      "include_colab_link": true
    },
    "kernelspec": {
      "name": "python3",
      "display_name": "Python 3"
    },
    "accelerator": "GPU"
  },
  "cells": [
    {
      "cell_type": "markdown",
      "metadata": {
        "id": "view-in-github",
        "colab_type": "text"
      },
      "source": [
        "<a href=\"https://colab.research.google.com/github/daniloaleixo/generalCrawler/blob/master/generalCrawler.ipynb\" target=\"_parent\"><img src=\"https://colab.research.google.com/assets/colab-badge.svg\" alt=\"Open In Colab\"/></a>"
      ]
    },
    {
      "cell_type": "markdown",
      "metadata": {
        "id": "4S7osIjTQK0D",
        "colab_type": "text"
      },
      "source": [
        "# UOL Crawler\n",
        " "
      ]
    },
    {
      "cell_type": "code",
      "metadata": {
        "id": "kW5ht9Rb2sS3",
        "colab_type": "code",
        "outputId": "afe317c2-4643-44b1-9394-1e6919c56be1",
        "colab": {
          "base_uri": "https://localhost:8080/",
          "height": 34
        }
      },
      "source": [
        "# Settings for notebook\n",
        "from IPython.core.interactiveshell import InteractiveShell\n",
        "InteractiveShell.ast_node_interactivity = \"all\"\n",
        "# Show Python version\n",
        "import platform\n",
        "platform.python_version()"
      ],
      "execution_count": 1,
      "outputs": [
        {
          "output_type": "execute_result",
          "data": {
            "text/plain": [
              "'3.6.9'"
            ]
          },
          "metadata": {
            "tags": []
          },
          "execution_count": 1
        }
      ]
    },
    {
      "cell_type": "code",
      "metadata": {
        "id": "mryKdpTG3a2u",
        "colab_type": "code",
        "colab": {
          "base_uri": "https://localhost:8080/",
          "height": 1000
        },
        "outputId": "6b249d54-38d0-477b-97d2-9e8b94e98e20"
      },
      "source": [
        "# Import scrapy\n",
        "try:\n",
        "    import scrapy\n",
        "except:\n",
        "    !pip install scrapy\n",
        "    import scrapy\n",
        "from scrapy.crawler import CrawlerProcess"
      ],
      "execution_count": 2,
      "outputs": [
        {
          "output_type": "stream",
          "text": [
            "Collecting scrapy\n",
            "\u001b[?25l  Downloading https://files.pythonhosted.org/packages/3b/e4/69b87d7827abf03dea2ea984230d50f347b00a7a3897bc93f6ec3dafa494/Scrapy-1.8.0-py2.py3-none-any.whl (238kB)\n",
            "\u001b[K     |████████████████████████████████| 245kB 3.5MB/s \n",
            "\u001b[?25hCollecting zope.interface>=4.1.3\n",
            "\u001b[?25l  Downloading https://files.pythonhosted.org/packages/05/16/79fe71428c91673194a21fedcc46f7f1349db799bc2a65da4ffdbe570343/zope.interface-4.7.1-cp36-cp36m-manylinux2010_x86_64.whl (168kB)\n",
            "\u001b[K     |████████████████████████████████| 174kB 46.1MB/s \n",
            "\u001b[?25hRequirement already satisfied: lxml>=3.5.0 in /usr/local/lib/python3.6/dist-packages (from scrapy) (4.2.6)\n",
            "Collecting Twisted>=17.9.0; python_version >= \"3.5\"\n",
            "\u001b[?25l  Downloading https://files.pythonhosted.org/packages/88/e2/0c21fadf0dff02d145db02f24a6ed2c24993e7242d138babbca41de2f5a2/Twisted-19.10.0-cp36-cp36m-manylinux1_x86_64.whl (3.1MB)\n",
            "\u001b[K     |████████████████████████████████| 3.1MB 46.5MB/s \n",
            "\u001b[?25hRequirement already satisfied: six>=1.10.0 in /usr/local/lib/python3.6/dist-packages (from scrapy) (1.12.0)\n",
            "Collecting service-identity>=16.0.0\n",
            "  Downloading https://files.pythonhosted.org/packages/e9/7c/2195b890023e098f9618d43ebc337d83c8b38d414326685339eb024db2f6/service_identity-18.1.0-py2.py3-none-any.whl\n",
            "Collecting cssselect>=0.9.1\n",
            "  Downloading https://files.pythonhosted.org/packages/3b/d4/3b5c17f00cce85b9a1e6f91096e1cc8e8ede2e1be8e96b87ce1ed09e92c5/cssselect-1.1.0-py2.py3-none-any.whl\n",
            "Collecting queuelib>=1.4.2\n",
            "  Downloading https://files.pythonhosted.org/packages/4c/85/ae64e9145f39dd6d14f8af3fa809a270ef3729f3b90b3c0cf5aa242ab0d4/queuelib-1.5.0-py2.py3-none-any.whl\n",
            "Collecting PyDispatcher>=2.0.5\n",
            "  Downloading https://files.pythonhosted.org/packages/cd/37/39aca520918ce1935bea9c356bcbb7ed7e52ad4e31bff9b943dfc8e7115b/PyDispatcher-2.0.5.tar.gz\n",
            "Collecting protego>=0.1.15\n",
            "\u001b[?25l  Downloading https://files.pythonhosted.org/packages/e8/4b/c72e7d801facc2f519824680b65d76373e6bb289df668dbf8758ea21ff10/Protego-0.1.15.tar.gz (3.2MB)\n",
            "\u001b[K     |████████████████████████████████| 3.2MB 26.6MB/s \n",
            "\u001b[?25hCollecting w3lib>=1.17.0\n",
            "  Downloading https://files.pythonhosted.org/packages/6a/45/1ba17c50a0bb16bd950c9c2b92ec60d40c8ebda9f3371ae4230c437120b6/w3lib-1.21.0-py2.py3-none-any.whl\n",
            "Collecting cryptography>=2.0\n",
            "\u001b[?25l  Downloading https://files.pythonhosted.org/packages/ca/9a/7cece52c46546e214e10811b36b2da52ce1ea7fa203203a629b8dfadad53/cryptography-2.8-cp34-abi3-manylinux2010_x86_64.whl (2.3MB)\n",
            "\u001b[K     |████████████████████████████████| 2.3MB 29.5MB/s \n",
            "\u001b[?25hCollecting parsel>=1.5.0\n",
            "  Downloading https://files.pythonhosted.org/packages/86/c8/fc5a2f9376066905dfcca334da2a25842aedfda142c0424722e7c497798b/parsel-1.5.2-py2.py3-none-any.whl\n",
            "Collecting pyOpenSSL>=16.2.0\n",
            "\u001b[?25l  Downloading https://files.pythonhosted.org/packages/9e/de/f8342b68fa9e981d348039954657bdf681b2ab93de27443be51865ffa310/pyOpenSSL-19.1.0-py2.py3-none-any.whl (53kB)\n",
            "\u001b[K     |████████████████████████████████| 61kB 7.8MB/s \n",
            "\u001b[?25hRequirement already satisfied: setuptools in /usr/local/lib/python3.6/dist-packages (from zope.interface>=4.1.3->scrapy) (42.0.1)\n",
            "Collecting Automat>=0.3.0\n",
            "  Downloading https://files.pythonhosted.org/packages/e5/11/756922e977bb296a79ccf38e8d45cafee446733157d59bcd751d3aee57f5/Automat-0.8.0-py2.py3-none-any.whl\n",
            "Collecting constantly>=15.1\n",
            "  Downloading https://files.pythonhosted.org/packages/b9/65/48c1909d0c0aeae6c10213340ce682db01b48ea900a7d9fce7a7910ff318/constantly-15.1.0-py2.py3-none-any.whl\n",
            "Collecting incremental>=16.10.1\n",
            "  Downloading https://files.pythonhosted.org/packages/f5/1d/c98a587dc06e107115cf4a58b49de20b19222c83d75335a192052af4c4b7/incremental-17.5.0-py2.py3-none-any.whl\n",
            "Collecting PyHamcrest>=1.9.0\n",
            "\u001b[?25l  Downloading https://files.pythonhosted.org/packages/9a/d5/d37fd731b7d0e91afcc84577edeccf4638b4f9b82f5ffe2f8b62e2ddc609/PyHamcrest-1.9.0-py2.py3-none-any.whl (52kB)\n",
            "\u001b[K     |████████████████████████████████| 61kB 8.3MB/s \n",
            "\u001b[?25hRequirement already satisfied: attrs>=17.4.0 in /usr/local/lib/python3.6/dist-packages (from Twisted>=17.9.0; python_version >= \"3.5\"->scrapy) (19.3.0)\n",
            "Collecting hyperlink>=17.1.1\n",
            "  Downloading https://files.pythonhosted.org/packages/7f/91/e916ca10a2de1cb7101a9b24da546fb90ee14629e23160086cf3361c4fb8/hyperlink-19.0.0-py2.py3-none-any.whl\n",
            "Requirement already satisfied: pyasn1-modules in /usr/local/lib/python3.6/dist-packages (from service-identity>=16.0.0->scrapy) (0.2.7)\n",
            "Requirement already satisfied: pyasn1 in /usr/local/lib/python3.6/dist-packages (from service-identity>=16.0.0->scrapy) (0.4.8)\n",
            "Requirement already satisfied: cffi!=1.11.3,>=1.8 in /usr/local/lib/python3.6/dist-packages (from cryptography>=2.0->scrapy) (1.13.2)\n",
            "Requirement already satisfied: idna>=2.5 in /usr/local/lib/python3.6/dist-packages (from hyperlink>=17.1.1->Twisted>=17.9.0; python_version >= \"3.5\"->scrapy) (2.8)\n",
            "Requirement already satisfied: pycparser in /usr/local/lib/python3.6/dist-packages (from cffi!=1.11.3,>=1.8->cryptography>=2.0->scrapy) (2.19)\n",
            "Building wheels for collected packages: PyDispatcher, protego\n",
            "  Building wheel for PyDispatcher (setup.py) ... \u001b[?25l\u001b[?25hdone\n",
            "  Created wheel for PyDispatcher: filename=PyDispatcher-2.0.5-cp36-none-any.whl size=11516 sha256=2f0204b0c49e3d254adbc3783141d3028c90b52d301107f455b9e1a520afe329\n",
            "  Stored in directory: /root/.cache/pip/wheels/88/99/96/cfef6665f9cb1522ee6757ae5955feedf2fe25f1737f91fa7f\n",
            "  Building wheel for protego (setup.py) ... \u001b[?25l\u001b[?25hdone\n",
            "  Created wheel for protego: filename=Protego-0.1.15-cp36-none-any.whl size=7733 sha256=d2235170e57427cace1eb2e0a2b915506debe3f51a9f281f1e3173785bf0f7cc\n",
            "  Stored in directory: /root/.cache/pip/wheels/72/d1/f2/4e0a2e6d0179c201952b1b3e086a736548605386193cd312f6\n",
            "Successfully built PyDispatcher protego\n",
            "Installing collected packages: zope.interface, Automat, constantly, incremental, PyHamcrest, hyperlink, Twisted, cryptography, service-identity, cssselect, queuelib, PyDispatcher, protego, w3lib, parsel, pyOpenSSL, scrapy\n",
            "Successfully installed Automat-0.8.0 PyDispatcher-2.0.5 PyHamcrest-1.9.0 Twisted-19.10.0 constantly-15.1.0 cryptography-2.8 cssselect-1.1.0 hyperlink-19.0.0 incremental-17.5.0 parsel-1.5.2 protego-0.1.15 pyOpenSSL-19.1.0 queuelib-1.5.0 scrapy-1.8.0 service-identity-18.1.0 w3lib-1.21.0 zope.interface-4.7.1\n"
          ],
          "name": "stdout"
        }
      ]
    },
    {
      "cell_type": "code",
      "metadata": {
        "id": "6DHXyhKeQbE3",
        "colab_type": "code",
        "colab": {}
      },
      "source": [
        "%reload_ext autoreload\n",
        "%autoreload 2\n",
        "%matplotlib inline\n",
        "\n",
        "import re\n",
        "import lxml\n",
        "import urllib.request\n",
        "import urllib.parse\n",
        "import http.cookiejar\n",
        "from lxml.html import fragment_fromstring\n",
        "import scrapy"
      ],
      "execution_count": 0,
      "outputs": []
    },
    {
      "cell_type": "code",
      "metadata": {
        "id": "PIVp0B4gQKDJ",
        "colab_type": "code",
        "colab": {}
      },
      "source": [
        "all_links = {}"
      ],
      "execution_count": 0,
      "outputs": []
    },
    {
      "cell_type": "markdown",
      "metadata": {
        "id": "BncCpG_PSTlq",
        "colab_type": "text"
      },
      "source": [
        "Prepare the requests"
      ]
    },
    {
      "cell_type": "code",
      "metadata": {
        "id": "RybiiC8uQTaS",
        "colab_type": "code",
        "colab": {}
      },
      "source": [
        "url = \"https://www.uol.com.br/\"\n",
        "cj = http.cookiejar.CookieJar()\n",
        "opener = urllib.request.build_opener(urllib.request.HTTPCookieProcessor(cj))\n",
        "opener.addheaders = [('User-agent', 'Mozilla/5.0 (Windows; U; Windows NT 6.1; rv:2.2) Gecko/20110201'),('Accept', ' text/html, text/plain, text/css, text/sgml, */*; q=0.01')]"
      ],
      "execution_count": 0,
      "outputs": []
    },
    {
      "cell_type": "markdown",
      "metadata": {
        "id": "KYHiifUvXCSY",
        "colab_type": "text"
      },
      "source": [
        "## Making the first run"
      ]
    },
    {
      "cell_type": "code",
      "metadata": {
        "id": "ln-3JViXQxcq",
        "colab_type": "code",
        "colab": {}
      },
      "source": [
        "link = opener.open(url)\n",
        "content = link.read().decode(\"ISO-8859-1\") "
      ],
      "execution_count": 0,
      "outputs": []
    },
    {
      "cell_type": "code",
      "metadata": {
        "id": "p4mBOPX1SvLI",
        "colab_type": "code",
        "colab": {}
      },
      "source": [
        "pattern = re.compile('<a href=\"(https://www.uol.com.br/[^ ]*)\"', re.DOTALL)\n",
        "reg = re.findall(pattern, content)"
      ],
      "execution_count": 0,
      "outputs": []
    },
    {
      "cell_type": "code",
      "metadata": {
        "id": "Z0JlOFHDSxde",
        "colab_type": "code",
        "outputId": "ca44674e-af33-440c-9b55-2dbc1e187fc4",
        "colab": {
          "base_uri": "https://localhost:8080/",
          "height": 102
        }
      },
      "source": [
        "reg[:5]"
      ],
      "execution_count": 0,
      "outputs": [
        {
          "output_type": "execute_result",
          "data": {
            "text/plain": [
              "['https://www.uol.com.br/',\n",
              " 'https://www.uol.com.br/mov/retrato',\n",
              " 'https://www.uol.com.br/mov/mov-doc',\n",
              " 'https://www.uol.com.br/podcasts',\n",
              " 'https://www.uol.com.br/vivabem/podcast/maratona/']"
            ]
          },
          "metadata": {
            "tags": []
          },
          "execution_count": 6
        }
      ]
    },
    {
      "cell_type": "markdown",
      "metadata": {
        "id": "W5rTYgYBXHni",
        "colab_type": "text"
      },
      "source": [
        "I'll check all the links with not visited"
      ]
    },
    {
      "cell_type": "code",
      "metadata": {
        "id": "Ak43HKgDTSOH",
        "colab_type": "code",
        "colab": {}
      },
      "source": [
        "for link in reg:\n",
        "  if link not in all_links:\n",
        "    all_links[str(link)] = 0"
      ],
      "execution_count": 0,
      "outputs": []
    },
    {
      "cell_type": "markdown",
      "metadata": {
        "id": "-iAzC17iXNwD",
        "colab_type": "text"
      },
      "source": [
        "The only one that I really visited I'll set to 1"
      ]
    },
    {
      "cell_type": "code",
      "metadata": {
        "id": "SgFJ5Yh-VQrd",
        "colab_type": "code",
        "colab": {}
      },
      "source": [
        "all_links[\"https://www.uol.com.br/\"] = 1"
      ],
      "execution_count": 0,
      "outputs": []
    },
    {
      "cell_type": "markdown",
      "metadata": {
        "id": "orerWi49XVO7",
        "colab_type": "text"
      },
      "source": [
        "# Looping through all the links"
      ]
    },
    {
      "cell_type": "markdown",
      "metadata": {
        "id": "yLO3z4rtXbYK",
        "colab_type": "text"
      },
      "source": [
        "Now I'll loop through all the non-visited links and get their links (for tests purposes I'll limit the size of the dictionary to 1000 links"
      ]
    },
    {
      "cell_type": "code",
      "metadata": {
        "id": "lykDewvpVdTQ",
        "colab_type": "code",
        "outputId": "b85d6e82-99fd-4844-8e00-61f173c328ed",
        "colab": {
          "base_uri": "https://localhost:8080/",
          "height": 460
        }
      },
      "source": [
        "pass_index = 2\n",
        "pattern = re.compile('<a href=\"(https://www.uol.com.br/[^ ]*)\"', re.DOTALL)\n",
        "\n",
        "\n",
        "while all(value == 1 for value in all_links.values()) == False and len(all_links) < 1000: \n",
        "\n",
        "  # Get the next url\n",
        "  next_url = \"\"\n",
        "  for link in all_links.keys():\n",
        "    if all_links[link] == 0:\n",
        "      next_url = link\n",
        "      break;\n",
        "\n",
        "  print('Passing to link number ', pass_index, \" -> \", next_url, \" | all_links size: \", len(all_links))  \n",
        "  \n",
        "  link = opener.open(next_url)\n",
        "  content = link.read().decode(\"ISO-8859-1\")\n",
        "  reg = re.findall(pattern, content)\n",
        "\n",
        "  # Include to all links\n",
        "  for link in reg:\n",
        "    if link not in all_links:\n",
        "      all_links[str(link)] = 0\n",
        "\n",
        "  pass_index = pass_index + 1\n",
        "  all_links[next_url] = 1\n"
      ],
      "execution_count": 0,
      "outputs": [
        {
          "output_type": "stream",
          "text": [
            "Passing to link number  2  ->  https://www.uol.com.br/mov/retrato  | all_links size:  124\n",
            "Passing to link number  3  ->  https://www.uol.com.br/mov/mov-doc  | all_links size:  148\n",
            "Passing to link number  4  ->  https://www.uol.com.br/podcasts  | all_links size:  178\n",
            "Passing to link number  5  ->  https://www.uol.com.br/vivabem/podcast/maratona/  | all_links size:  192\n",
            "Passing to link number  6  ->  https://www.uol.com.br/esporte/podcast/posse-de-bola/  | all_links size:  196\n"
          ],
          "name": "stdout"
        },
        {
          "output_type": "error",
          "ename": "KeyboardInterrupt",
          "evalue": "ignored",
          "traceback": [
            "\u001b[0;31m---------------------------------------------------------------------------\u001b[0m",
            "\u001b[0;31mKeyboardInterrupt\u001b[0m                         Traceback (most recent call last)",
            "\u001b[0;32m<ipython-input-9-2a4740141fc9>\u001b[0m in \u001b[0;36m<module>\u001b[0;34m()\u001b[0m\n\u001b[1;32m     13\u001b[0m \u001b[0;34m\u001b[0m\u001b[0m\n\u001b[1;32m     14\u001b[0m   \u001b[0mlink\u001b[0m \u001b[0;34m=\u001b[0m \u001b[0mopener\u001b[0m\u001b[0;34m.\u001b[0m\u001b[0mopen\u001b[0m\u001b[0;34m(\u001b[0m\u001b[0mnext_url\u001b[0m\u001b[0;34m)\u001b[0m\u001b[0;34m\u001b[0m\u001b[0;34m\u001b[0m\u001b[0m\n\u001b[0;32m---> 15\u001b[0;31m   \u001b[0mcontent\u001b[0m \u001b[0;34m=\u001b[0m \u001b[0mlink\u001b[0m\u001b[0;34m.\u001b[0m\u001b[0mread\u001b[0m\u001b[0;34m(\u001b[0m\u001b[0;34m)\u001b[0m\u001b[0;34m.\u001b[0m\u001b[0mdecode\u001b[0m\u001b[0;34m(\u001b[0m\u001b[0;34m\"ISO-8859-1\"\u001b[0m\u001b[0;34m)\u001b[0m\u001b[0;34m\u001b[0m\u001b[0;34m\u001b[0m\u001b[0m\n\u001b[0m\u001b[1;32m     16\u001b[0m   \u001b[0mpattern\u001b[0m \u001b[0;34m=\u001b[0m \u001b[0mre\u001b[0m\u001b[0;34m.\u001b[0m\u001b[0mcompile\u001b[0m\u001b[0;34m(\u001b[0m\u001b[0;34m'<a href=\"(https://www.uol.com.br/[^ ]*)\"'\u001b[0m\u001b[0;34m,\u001b[0m \u001b[0mre\u001b[0m\u001b[0;34m.\u001b[0m\u001b[0mDOTALL\u001b[0m\u001b[0;34m)\u001b[0m\u001b[0;34m\u001b[0m\u001b[0;34m\u001b[0m\u001b[0m\n\u001b[1;32m     17\u001b[0m   \u001b[0mreg\u001b[0m \u001b[0;34m=\u001b[0m \u001b[0mre\u001b[0m\u001b[0;34m.\u001b[0m\u001b[0mfindall\u001b[0m\u001b[0;34m(\u001b[0m\u001b[0mpattern\u001b[0m\u001b[0;34m,\u001b[0m \u001b[0mcontent\u001b[0m\u001b[0;34m)\u001b[0m\u001b[0;34m\u001b[0m\u001b[0;34m\u001b[0m\u001b[0m\n",
            "\u001b[0;32m/usr/lib/python3.6/http/client.py\u001b[0m in \u001b[0;36mread\u001b[0;34m(self, amt)\u001b[0m\n\u001b[1;32m    470\u001b[0m             \u001b[0;32melse\u001b[0m\u001b[0;34m:\u001b[0m\u001b[0;34m\u001b[0m\u001b[0;34m\u001b[0m\u001b[0m\n\u001b[1;32m    471\u001b[0m                 \u001b[0;32mtry\u001b[0m\u001b[0;34m:\u001b[0m\u001b[0;34m\u001b[0m\u001b[0;34m\u001b[0m\u001b[0m\n\u001b[0;32m--> 472\u001b[0;31m                     \u001b[0ms\u001b[0m \u001b[0;34m=\u001b[0m \u001b[0mself\u001b[0m\u001b[0;34m.\u001b[0m\u001b[0m_safe_read\u001b[0m\u001b[0;34m(\u001b[0m\u001b[0mself\u001b[0m\u001b[0;34m.\u001b[0m\u001b[0mlength\u001b[0m\u001b[0;34m)\u001b[0m\u001b[0;34m\u001b[0m\u001b[0;34m\u001b[0m\u001b[0m\n\u001b[0m\u001b[1;32m    473\u001b[0m                 \u001b[0;32mexcept\u001b[0m \u001b[0mIncompleteRead\u001b[0m\u001b[0;34m:\u001b[0m\u001b[0;34m\u001b[0m\u001b[0;34m\u001b[0m\u001b[0m\n\u001b[1;32m    474\u001b[0m                     \u001b[0mself\u001b[0m\u001b[0;34m.\u001b[0m\u001b[0m_close_conn\u001b[0m\u001b[0;34m(\u001b[0m\u001b[0;34m)\u001b[0m\u001b[0;34m\u001b[0m\u001b[0;34m\u001b[0m\u001b[0m\n",
            "\u001b[0;32m/usr/lib/python3.6/http/client.py\u001b[0m in \u001b[0;36m_safe_read\u001b[0;34m(self, amt)\u001b[0m\n\u001b[1;32m    620\u001b[0m         \u001b[0ms\u001b[0m \u001b[0;34m=\u001b[0m \u001b[0;34m[\u001b[0m\u001b[0;34m]\u001b[0m\u001b[0;34m\u001b[0m\u001b[0;34m\u001b[0m\u001b[0m\n\u001b[1;32m    621\u001b[0m         \u001b[0;32mwhile\u001b[0m \u001b[0mamt\u001b[0m \u001b[0;34m>\u001b[0m \u001b[0;36m0\u001b[0m\u001b[0;34m:\u001b[0m\u001b[0;34m\u001b[0m\u001b[0;34m\u001b[0m\u001b[0m\n\u001b[0;32m--> 622\u001b[0;31m             \u001b[0mchunk\u001b[0m \u001b[0;34m=\u001b[0m \u001b[0mself\u001b[0m\u001b[0;34m.\u001b[0m\u001b[0mfp\u001b[0m\u001b[0;34m.\u001b[0m\u001b[0mread\u001b[0m\u001b[0;34m(\u001b[0m\u001b[0mmin\u001b[0m\u001b[0;34m(\u001b[0m\u001b[0mamt\u001b[0m\u001b[0;34m,\u001b[0m \u001b[0mMAXAMOUNT\u001b[0m\u001b[0;34m)\u001b[0m\u001b[0;34m)\u001b[0m\u001b[0;34m\u001b[0m\u001b[0;34m\u001b[0m\u001b[0m\n\u001b[0m\u001b[1;32m    623\u001b[0m             \u001b[0;32mif\u001b[0m \u001b[0;32mnot\u001b[0m \u001b[0mchunk\u001b[0m\u001b[0;34m:\u001b[0m\u001b[0;34m\u001b[0m\u001b[0;34m\u001b[0m\u001b[0m\n\u001b[1;32m    624\u001b[0m                 \u001b[0;32mraise\u001b[0m \u001b[0mIncompleteRead\u001b[0m\u001b[0;34m(\u001b[0m\u001b[0;34mb''\u001b[0m\u001b[0;34m.\u001b[0m\u001b[0mjoin\u001b[0m\u001b[0;34m(\u001b[0m\u001b[0ms\u001b[0m\u001b[0;34m)\u001b[0m\u001b[0;34m,\u001b[0m \u001b[0mamt\u001b[0m\u001b[0;34m)\u001b[0m\u001b[0;34m\u001b[0m\u001b[0;34m\u001b[0m\u001b[0m\n",
            "\u001b[0;32m/usr/lib/python3.6/socket.py\u001b[0m in \u001b[0;36mreadinto\u001b[0;34m(self, b)\u001b[0m\n\u001b[1;32m    584\u001b[0m         \u001b[0;32mwhile\u001b[0m \u001b[0;32mTrue\u001b[0m\u001b[0;34m:\u001b[0m\u001b[0;34m\u001b[0m\u001b[0;34m\u001b[0m\u001b[0m\n\u001b[1;32m    585\u001b[0m             \u001b[0;32mtry\u001b[0m\u001b[0;34m:\u001b[0m\u001b[0;34m\u001b[0m\u001b[0;34m\u001b[0m\u001b[0m\n\u001b[0;32m--> 586\u001b[0;31m                 \u001b[0;32mreturn\u001b[0m \u001b[0mself\u001b[0m\u001b[0;34m.\u001b[0m\u001b[0m_sock\u001b[0m\u001b[0;34m.\u001b[0m\u001b[0mrecv_into\u001b[0m\u001b[0;34m(\u001b[0m\u001b[0mb\u001b[0m\u001b[0;34m)\u001b[0m\u001b[0;34m\u001b[0m\u001b[0;34m\u001b[0m\u001b[0m\n\u001b[0m\u001b[1;32m    587\u001b[0m             \u001b[0;32mexcept\u001b[0m \u001b[0mtimeout\u001b[0m\u001b[0;34m:\u001b[0m\u001b[0;34m\u001b[0m\u001b[0;34m\u001b[0m\u001b[0m\n\u001b[1;32m    588\u001b[0m                 \u001b[0mself\u001b[0m\u001b[0;34m.\u001b[0m\u001b[0m_timeout_occurred\u001b[0m \u001b[0;34m=\u001b[0m \u001b[0;32mTrue\u001b[0m\u001b[0;34m\u001b[0m\u001b[0;34m\u001b[0m\u001b[0m\n",
            "\u001b[0;32m/usr/lib/python3.6/ssl.py\u001b[0m in \u001b[0;36mrecv_into\u001b[0;34m(self, buffer, nbytes, flags)\u001b[0m\n\u001b[1;32m   1010\u001b[0m                   \u001b[0;34m\"non-zero flags not allowed in calls to recv_into() on %s\"\u001b[0m \u001b[0;34m%\u001b[0m\u001b[0;34m\u001b[0m\u001b[0;34m\u001b[0m\u001b[0m\n\u001b[1;32m   1011\u001b[0m                   self.__class__)\n\u001b[0;32m-> 1012\u001b[0;31m             \u001b[0;32mreturn\u001b[0m \u001b[0mself\u001b[0m\u001b[0;34m.\u001b[0m\u001b[0mread\u001b[0m\u001b[0;34m(\u001b[0m\u001b[0mnbytes\u001b[0m\u001b[0;34m,\u001b[0m \u001b[0mbuffer\u001b[0m\u001b[0;34m)\u001b[0m\u001b[0;34m\u001b[0m\u001b[0;34m\u001b[0m\u001b[0m\n\u001b[0m\u001b[1;32m   1013\u001b[0m         \u001b[0;32melse\u001b[0m\u001b[0;34m:\u001b[0m\u001b[0;34m\u001b[0m\u001b[0;34m\u001b[0m\u001b[0m\n\u001b[1;32m   1014\u001b[0m             \u001b[0;32mreturn\u001b[0m \u001b[0msocket\u001b[0m\u001b[0;34m.\u001b[0m\u001b[0mrecv_into\u001b[0m\u001b[0;34m(\u001b[0m\u001b[0mself\u001b[0m\u001b[0;34m,\u001b[0m \u001b[0mbuffer\u001b[0m\u001b[0;34m,\u001b[0m \u001b[0mnbytes\u001b[0m\u001b[0;34m,\u001b[0m \u001b[0mflags\u001b[0m\u001b[0;34m)\u001b[0m\u001b[0;34m\u001b[0m\u001b[0;34m\u001b[0m\u001b[0m\n",
            "\u001b[0;32m/usr/lib/python3.6/ssl.py\u001b[0m in \u001b[0;36mread\u001b[0;34m(self, len, buffer)\u001b[0m\n\u001b[1;32m    872\u001b[0m             \u001b[0;32mraise\u001b[0m \u001b[0mValueError\u001b[0m\u001b[0;34m(\u001b[0m\u001b[0;34m\"Read on closed or unwrapped SSL socket.\"\u001b[0m\u001b[0;34m)\u001b[0m\u001b[0;34m\u001b[0m\u001b[0;34m\u001b[0m\u001b[0m\n\u001b[1;32m    873\u001b[0m         \u001b[0;32mtry\u001b[0m\u001b[0;34m:\u001b[0m\u001b[0;34m\u001b[0m\u001b[0;34m\u001b[0m\u001b[0m\n\u001b[0;32m--> 874\u001b[0;31m             \u001b[0;32mreturn\u001b[0m \u001b[0mself\u001b[0m\u001b[0;34m.\u001b[0m\u001b[0m_sslobj\u001b[0m\u001b[0;34m.\u001b[0m\u001b[0mread\u001b[0m\u001b[0;34m(\u001b[0m\u001b[0mlen\u001b[0m\u001b[0;34m,\u001b[0m \u001b[0mbuffer\u001b[0m\u001b[0;34m)\u001b[0m\u001b[0;34m\u001b[0m\u001b[0;34m\u001b[0m\u001b[0m\n\u001b[0m\u001b[1;32m    875\u001b[0m         \u001b[0;32mexcept\u001b[0m \u001b[0mSSLError\u001b[0m \u001b[0;32mas\u001b[0m \u001b[0mx\u001b[0m\u001b[0;34m:\u001b[0m\u001b[0;34m\u001b[0m\u001b[0;34m\u001b[0m\u001b[0m\n\u001b[1;32m    876\u001b[0m             \u001b[0;32mif\u001b[0m \u001b[0mx\u001b[0m\u001b[0;34m.\u001b[0m\u001b[0margs\u001b[0m\u001b[0;34m[\u001b[0m\u001b[0;36m0\u001b[0m\u001b[0;34m]\u001b[0m \u001b[0;34m==\u001b[0m \u001b[0mSSL_ERROR_EOF\u001b[0m \u001b[0;32mand\u001b[0m \u001b[0mself\u001b[0m\u001b[0;34m.\u001b[0m\u001b[0msuppress_ragged_eofs\u001b[0m\u001b[0;34m:\u001b[0m\u001b[0;34m\u001b[0m\u001b[0;34m\u001b[0m\u001b[0m\n",
            "\u001b[0;32m/usr/lib/python3.6/ssl.py\u001b[0m in \u001b[0;36mread\u001b[0;34m(self, len, buffer)\u001b[0m\n\u001b[1;32m    629\u001b[0m         \"\"\"\n\u001b[1;32m    630\u001b[0m         \u001b[0;32mif\u001b[0m \u001b[0mbuffer\u001b[0m \u001b[0;32mis\u001b[0m \u001b[0;32mnot\u001b[0m \u001b[0;32mNone\u001b[0m\u001b[0;34m:\u001b[0m\u001b[0;34m\u001b[0m\u001b[0;34m\u001b[0m\u001b[0m\n\u001b[0;32m--> 631\u001b[0;31m             \u001b[0mv\u001b[0m \u001b[0;34m=\u001b[0m \u001b[0mself\u001b[0m\u001b[0;34m.\u001b[0m\u001b[0m_sslobj\u001b[0m\u001b[0;34m.\u001b[0m\u001b[0mread\u001b[0m\u001b[0;34m(\u001b[0m\u001b[0mlen\u001b[0m\u001b[0;34m,\u001b[0m \u001b[0mbuffer\u001b[0m\u001b[0;34m)\u001b[0m\u001b[0;34m\u001b[0m\u001b[0;34m\u001b[0m\u001b[0m\n\u001b[0m\u001b[1;32m    632\u001b[0m         \u001b[0;32melse\u001b[0m\u001b[0;34m:\u001b[0m\u001b[0;34m\u001b[0m\u001b[0;34m\u001b[0m\u001b[0m\n\u001b[1;32m    633\u001b[0m             \u001b[0mv\u001b[0m \u001b[0;34m=\u001b[0m \u001b[0mself\u001b[0m\u001b[0;34m.\u001b[0m\u001b[0m_sslobj\u001b[0m\u001b[0;34m.\u001b[0m\u001b[0mread\u001b[0m\u001b[0;34m(\u001b[0m\u001b[0mlen\u001b[0m\u001b[0;34m)\u001b[0m\u001b[0;34m\u001b[0m\u001b[0;34m\u001b[0m\u001b[0m\n",
            "\u001b[0;31mKeyboardInterrupt\u001b[0m: "
          ]
        }
      ]
    },
    {
      "cell_type": "code",
      "metadata": {
        "id": "Q6m_3rfhWXLo",
        "colab_type": "code",
        "outputId": "bd8898b5-5a55-47df-abf1-8583c7b80294",
        "colab": {
          "base_uri": "https://localhost:8080/",
          "height": 34
        }
      },
      "source": [
        "len(all_links)"
      ],
      "execution_count": 0,
      "outputs": [
        {
          "output_type": "execute_result",
          "data": {
            "text/plain": [
              "196"
            ]
          },
          "metadata": {
            "tags": []
          },
          "execution_count": 10
        }
      ]
    },
    {
      "cell_type": "markdown",
      "metadata": {
        "id": "YYYfz_OKvxGL",
        "colab_type": "text"
      },
      "source": [
        "# Extracting text\n"
      ]
    },
    {
      "cell_type": "markdown",
      "metadata": {
        "id": "LowYhoIj5AYW",
        "colab_type": "text"
      },
      "source": [
        "Based on tutorial https://www.jitsejan.com/using-scrapy-in-jupyter-notebook.html"
      ]
    },
    {
      "cell_type": "markdown",
      "metadata": {
        "id": "hXa3N77B3lB1",
        "colab_type": "text"
      },
      "source": [
        "### Setup a pipeline"
      ]
    },
    {
      "cell_type": "markdown",
      "metadata": {
        "id": "YMYGjOxs3m1I",
        "colab_type": "text"
      },
      "source": [
        "This class creates a simple pipeline that writes all found items to a JSON file, where each line contains one JSON element."
      ]
    },
    {
      "cell_type": "code",
      "metadata": {
        "id": "VlTzXaTi3npg",
        "colab_type": "code",
        "colab": {}
      },
      "source": [
        "import json\n",
        "\n",
        "class JsonWriterPipeline(object):\n",
        "\n",
        "    def open_spider(self, spider):\n",
        "        self.file = open('quoteresult.jl', 'w')\n",
        "\n",
        "    def close_spider(self, spider):\n",
        "        self.file.close()\n",
        "\n",
        "    def process_item(self, item, spider):\n",
        "        line = json.dumps(dict(item)) + \"\\n\"\n",
        "        self.file.write(line)\n",
        "        return item"
      ],
      "execution_count": 0,
      "outputs": []
    },
    {
      "cell_type": "markdown",
      "metadata": {
        "id": "f-9thBDw3-gQ",
        "colab_type": "text"
      },
      "source": [
        "### Define the spider"
      ]
    },
    {
      "cell_type": "code",
      "metadata": {
        "id": "CzFXrQ924Ev3",
        "colab_type": "code",
        "colab": {}
      },
      "source": [
        "import logging\n",
        "\n",
        "class QuotesSpider(scrapy.Spider):\n",
        "    name = \"quotes\"\n",
        "    allowed_domains = ['http://quotes.toscrape.com']\n",
        "    start_urls = [\n",
        "        'http://quotes.toscrape.com/page/1/',\n",
        "        'http://quotes.toscrape.com/page/2/',\n",
        "    ]\n",
        "    custom_settings = {\n",
        "        'LOG_LEVEL': logging.WARNING,\n",
        "        'ITEM_PIPELINES': {'__main__.JsonWriterPipeline': 1}, # Used for pipeline 1\n",
        "        'FEED_FORMAT':'json',                                 # Used for pipeline 2\n",
        "        'FEED_URI': 'quoteresult.json'                        # Used for pipeline 2\n",
        "    }\n",
        "    \n",
        "    def parse(self, response):\n",
        "        for quote in response.css('div.quote'):\n",
        "            yield {\n",
        "                'text': quote.css('span.text::text').extract_first(),\n",
        "                'author': quote.css('span small::text').extract_first(),\n",
        "                'tags': quote.css('div.tags a.tag::text').extract(),\n",
        "            }"
      ],
      "execution_count": 0,
      "outputs": []
    },
    {
      "cell_type": "markdown",
      "metadata": {
        "id": "RonS6nmD4z-w",
        "colab_type": "text"
      },
      "source": [
        "### Start the crawler"
      ]
    },
    {
      "cell_type": "code",
      "metadata": {
        "id": "kupH5epP4wY3",
        "colab_type": "code",
        "outputId": "4e70479b-7422-4c0e-f115-6d8ab24cf8f2",
        "colab": {
          "base_uri": "https://localhost:8080/",
          "height": 105
        }
      },
      "source": [
        "process = CrawlerProcess({\n",
        "    'USER_AGENT': 'Mozilla/4.0 (compatible; MSIE 7.0; Windows NT 5.1)'\n",
        "})\n",
        "\n",
        "process.crawl(QuotesSpider)\n",
        "process.start()"
      ],
      "execution_count": 6,
      "outputs": [
        {
          "output_type": "stream",
          "text": [
            "2019-12-08 23:26:22 [scrapy.utils.log] INFO: Scrapy 1.8.0 started (bot: scrapybot)\n",
            "2019-12-08 23:26:22 [scrapy.utils.log] INFO: Versions: lxml 4.2.6.0, libxml2 2.9.8, cssselect 1.1.0, parsel 1.5.2, w3lib 1.21.0, Twisted 19.10.0, Python 3.6.9 (default, Nov  7 2019, 10:44:02) - [GCC 8.3.0], pyOpenSSL 19.1.0 (OpenSSL 1.1.1d  10 Sep 2019), cryptography 2.8, Platform Linux-4.14.137+-x86_64-with-Ubuntu-18.04-bionic\n",
            "2019-12-08 23:26:22 [scrapy.crawler] INFO: Overridden settings: {'FEED_FORMAT': 'json', 'FEED_URI': 'quoteresult.json', 'LOG_LEVEL': 30, 'USER_AGENT': 'Mozilla/4.0 (compatible; MSIE 7.0; Windows NT 5.1)'}\n"
          ],
          "name": "stderr"
        },
        {
          "output_type": "execute_result",
          "data": {
            "text/plain": [
              "<Deferred at 0x7fc61996b860>"
            ]
          },
          "metadata": {
            "tags": []
          },
          "execution_count": 6
        }
      ]
    },
    {
      "cell_type": "code",
      "metadata": {
        "id": "zS9-ksrE4686",
        "colab_type": "code",
        "outputId": "9f5b75ce-5139-4c0f-978d-8901e34ed6ab",
        "colab": {
          "base_uri": "https://localhost:8080/",
          "height": 51
        }
      },
      "source": [
        "ll quoteresult.*"
      ],
      "execution_count": 7,
      "outputs": [
        {
          "output_type": "stream",
          "text": [
            "-rw-r--r-- 1 root 5551 Dec  8 23:26 quoteresult.jl\n",
            "-rw-r--r-- 1 root 5573 Dec  8 23:26 quoteresult.json\n"
          ],
          "name": "stdout"
        }
      ]
    },
    {
      "cell_type": "code",
      "metadata": {
        "id": "OV4sD2oN5GIv",
        "colab_type": "code",
        "outputId": "53ec5ee0-0db2-49c9-c538-90190e5e89b6",
        "colab": {
          "base_uri": "https://localhost:8080/",
          "height": 51
        }
      },
      "source": [
        "!tail -n 2 quoteresult.jl"
      ],
      "execution_count": 8,
      "outputs": [
        {
          "output_type": "stream",
          "text": [
            "{\"text\": \"\\u201cA woman is like a tea bag; you never know how strong it is until it's in hot water.\\u201d\", \"author\": \"Eleanor Roosevelt\", \"tags\": [\"misattributed-eleanor-roosevelt\"]}\n",
            "{\"text\": \"\\u201cA day without sunshine is like, you know, night.\\u201d\", \"author\": \"Steve Martin\", \"tags\": [\"humor\", \"obvious\", \"simile\"]}\n"
          ],
          "name": "stdout"
        }
      ]
    },
    {
      "cell_type": "code",
      "metadata": {
        "id": "MpnfIYd25JzT",
        "colab_type": "code",
        "outputId": "2ce9e8c0-e5ad-43f4-d4f1-351473c44a77",
        "colab": {
          "base_uri": "https://localhost:8080/",
          "height": 51
        }
      },
      "source": [
        "!tail -n 2 quoteresult.json"
      ],
      "execution_count": 9,
      "outputs": [
        {
          "output_type": "stream",
          "text": [
            "{\"text\": \"\\u201cA day without sunshine is like, you know, night.\\u201d\", \"author\": \"Steve Martin\", \"tags\": [\"humor\", \"obvious\", \"simile\"]}\n",
            "]"
          ],
          "name": "stdout"
        }
      ]
    },
    {
      "cell_type": "markdown",
      "metadata": {
        "id": "guOTZGdB2ItW",
        "colab_type": "text"
      },
      "source": [
        "### Create dataframes"
      ]
    },
    {
      "cell_type": "code",
      "metadata": {
        "id": "v0M4XME-2OJy",
        "colab_type": "code",
        "colab": {
          "base_uri": "https://localhost:8080/",
          "height": 669
        },
        "outputId": "5e9e1afa-12fa-43bc-e2b6-7f55752945ac"
      },
      "source": [
        "import pandas as pd\n",
        "dfjson = pd.read_json('quoteresult.json')\n",
        "dfjson"
      ],
      "execution_count": 10,
      "outputs": [
        {
          "output_type": "execute_result",
          "data": {
            "text/html": [
              "<div>\n",
              "<style scoped>\n",
              "    .dataframe tbody tr th:only-of-type {\n",
              "        vertical-align: middle;\n",
              "    }\n",
              "\n",
              "    .dataframe tbody tr th {\n",
              "        vertical-align: top;\n",
              "    }\n",
              "\n",
              "    .dataframe thead th {\n",
              "        text-align: right;\n",
              "    }\n",
              "</style>\n",
              "<table border=\"1\" class=\"dataframe\">\n",
              "  <thead>\n",
              "    <tr style=\"text-align: right;\">\n",
              "      <th></th>\n",
              "      <th>text</th>\n",
              "      <th>author</th>\n",
              "      <th>tags</th>\n",
              "    </tr>\n",
              "  </thead>\n",
              "  <tbody>\n",
              "    <tr>\n",
              "      <th>0</th>\n",
              "      <td>“This life is what you make it. No matter what...</td>\n",
              "      <td>Marilyn Monroe</td>\n",
              "      <td>[friends, heartbreak, inspirational, life, lov...</td>\n",
              "    </tr>\n",
              "    <tr>\n",
              "      <th>1</th>\n",
              "      <td>“It takes a great deal of bravery to stand up ...</td>\n",
              "      <td>J.K. Rowling</td>\n",
              "      <td>[courage, friends]</td>\n",
              "    </tr>\n",
              "    <tr>\n",
              "      <th>2</th>\n",
              "      <td>“If you can't explain it to a six year old, yo...</td>\n",
              "      <td>Albert Einstein</td>\n",
              "      <td>[simplicity, understand]</td>\n",
              "    </tr>\n",
              "    <tr>\n",
              "      <th>3</th>\n",
              "      <td>“You may not be her first, her last, or her on...</td>\n",
              "      <td>Bob Marley</td>\n",
              "      <td>[love]</td>\n",
              "    </tr>\n",
              "    <tr>\n",
              "      <th>4</th>\n",
              "      <td>“I like nonsense, it wakes up the brain cells....</td>\n",
              "      <td>Dr. Seuss</td>\n",
              "      <td>[fantasy]</td>\n",
              "    </tr>\n",
              "    <tr>\n",
              "      <th>5</th>\n",
              "      <td>“I may not have gone where I intended to go, b...</td>\n",
              "      <td>Douglas Adams</td>\n",
              "      <td>[life, navigation]</td>\n",
              "    </tr>\n",
              "    <tr>\n",
              "      <th>6</th>\n",
              "      <td>“The opposite of love is not hate, it's indiff...</td>\n",
              "      <td>Elie Wiesel</td>\n",
              "      <td>[activism, apathy, hate, indifference, inspira...</td>\n",
              "    </tr>\n",
              "    <tr>\n",
              "      <th>7</th>\n",
              "      <td>“It is not a lack of love, but a lack of frien...</td>\n",
              "      <td>Friedrich Nietzsche</td>\n",
              "      <td>[friendship, lack-of-friendship, lack-of-love,...</td>\n",
              "    </tr>\n",
              "    <tr>\n",
              "      <th>8</th>\n",
              "      <td>“Good friends, good books, and a sleepy consci...</td>\n",
              "      <td>Mark Twain</td>\n",
              "      <td>[books, contentment, friends, friendship, life]</td>\n",
              "    </tr>\n",
              "    <tr>\n",
              "      <th>9</th>\n",
              "      <td>“Life is what happens to us while we are makin...</td>\n",
              "      <td>Allen Saunders</td>\n",
              "      <td>[fate, life, misattributed-john-lennon, planni...</td>\n",
              "    </tr>\n",
              "    <tr>\n",
              "      <th>10</th>\n",
              "      <td>“The world as we have created it is a process ...</td>\n",
              "      <td>Albert Einstein</td>\n",
              "      <td>[change, deep-thoughts, thinking, world]</td>\n",
              "    </tr>\n",
              "    <tr>\n",
              "      <th>11</th>\n",
              "      <td>“It is our choices, Harry, that show what we t...</td>\n",
              "      <td>J.K. Rowling</td>\n",
              "      <td>[abilities, choices]</td>\n",
              "    </tr>\n",
              "    <tr>\n",
              "      <th>12</th>\n",
              "      <td>“There are only two ways to live your life. On...</td>\n",
              "      <td>Albert Einstein</td>\n",
              "      <td>[inspirational, life, live, miracle, miracles]</td>\n",
              "    </tr>\n",
              "    <tr>\n",
              "      <th>13</th>\n",
              "      <td>“The person, be it gentleman or lady, who has ...</td>\n",
              "      <td>Jane Austen</td>\n",
              "      <td>[aliteracy, books, classic, humor]</td>\n",
              "    </tr>\n",
              "    <tr>\n",
              "      <th>14</th>\n",
              "      <td>“Imperfection is beauty, madness is genius and...</td>\n",
              "      <td>Marilyn Monroe</td>\n",
              "      <td>[be-yourself, inspirational]</td>\n",
              "    </tr>\n",
              "    <tr>\n",
              "      <th>15</th>\n",
              "      <td>“Try not to become a man of success. Rather be...</td>\n",
              "      <td>Albert Einstein</td>\n",
              "      <td>[adulthood, success, value]</td>\n",
              "    </tr>\n",
              "    <tr>\n",
              "      <th>16</th>\n",
              "      <td>“It is better to be hated for what you are tha...</td>\n",
              "      <td>André Gide</td>\n",
              "      <td>[life, love]</td>\n",
              "    </tr>\n",
              "    <tr>\n",
              "      <th>17</th>\n",
              "      <td>“I have not failed. I've just found 10,000 way...</td>\n",
              "      <td>Thomas A. Edison</td>\n",
              "      <td>[edison, failure, inspirational, paraphrased]</td>\n",
              "    </tr>\n",
              "    <tr>\n",
              "      <th>18</th>\n",
              "      <td>“A woman is like a tea bag; you never know how...</td>\n",
              "      <td>Eleanor Roosevelt</td>\n",
              "      <td>[misattributed-eleanor-roosevelt]</td>\n",
              "    </tr>\n",
              "    <tr>\n",
              "      <th>19</th>\n",
              "      <td>“A day without sunshine is like, you know, nig...</td>\n",
              "      <td>Steve Martin</td>\n",
              "      <td>[humor, obvious, simile]</td>\n",
              "    </tr>\n",
              "  </tbody>\n",
              "</table>\n",
              "</div>"
            ],
            "text/plain": [
              "                                                 text  ...                                               tags\n",
              "0   “This life is what you make it. No matter what...  ...  [friends, heartbreak, inspirational, life, lov...\n",
              "1   “It takes a great deal of bravery to stand up ...  ...                                 [courage, friends]\n",
              "2   “If you can't explain it to a six year old, yo...  ...                           [simplicity, understand]\n",
              "3   “You may not be her first, her last, or her on...  ...                                             [love]\n",
              "4   “I like nonsense, it wakes up the brain cells....  ...                                          [fantasy]\n",
              "5   “I may not have gone where I intended to go, b...  ...                                 [life, navigation]\n",
              "6   “The opposite of love is not hate, it's indiff...  ...  [activism, apathy, hate, indifference, inspira...\n",
              "7   “It is not a lack of love, but a lack of frien...  ...  [friendship, lack-of-friendship, lack-of-love,...\n",
              "8   “Good friends, good books, and a sleepy consci...  ...    [books, contentment, friends, friendship, life]\n",
              "9   “Life is what happens to us while we are makin...  ...  [fate, life, misattributed-john-lennon, planni...\n",
              "10  “The world as we have created it is a process ...  ...           [change, deep-thoughts, thinking, world]\n",
              "11  “It is our choices, Harry, that show what we t...  ...                               [abilities, choices]\n",
              "12  “There are only two ways to live your life. On...  ...     [inspirational, life, live, miracle, miracles]\n",
              "13  “The person, be it gentleman or lady, who has ...  ...                 [aliteracy, books, classic, humor]\n",
              "14  “Imperfection is beauty, madness is genius and...  ...                       [be-yourself, inspirational]\n",
              "15  “Try not to become a man of success. Rather be...  ...                        [adulthood, success, value]\n",
              "16  “It is better to be hated for what you are tha...  ...                                       [life, love]\n",
              "17  “I have not failed. I've just found 10,000 way...  ...      [edison, failure, inspirational, paraphrased]\n",
              "18  “A woman is like a tea bag; you never know how...  ...                  [misattributed-eleanor-roosevelt]\n",
              "19  “A day without sunshine is like, you know, nig...  ...                           [humor, obvious, simile]\n",
              "\n",
              "[20 rows x 3 columns]"
            ]
          },
          "metadata": {
            "tags": []
          },
          "execution_count": 10
        }
      ]
    },
    {
      "cell_type": "markdown",
      "metadata": {
        "id": "tJsmq35Q36cv",
        "colab_type": "text"
      },
      "source": [
        "### Run for one page"
      ]
    },
    {
      "cell_type": "markdown",
      "metadata": {
        "id": "NL07u9f0yO6Q",
        "colab_type": "text"
      },
      "source": [
        "I'll do it just for one page for now"
      ]
    },
    {
      "cell_type": "code",
      "metadata": {
        "id": "pwrfWITM1-nZ",
        "colab_type": "code",
        "colab": {}
      },
      "source": [
        "class BlogSpider(scrapy.Spider):\n",
        "    name = 'blogspider'\n",
        "    start_urls = ['https://blog.scrapinghub.com']\n",
        "\n",
        "    def parse(self, response):\n",
        "        for title in response.css('.post-header>h2'):\n",
        "            yield {'title': title.css('a ::text').get()}\n",
        "\n",
        "        for next_page in response.css('a.next-posts-link'):\n",
        "            yield response.follow(next_page, self.parse)"
      ],
      "execution_count": 0,
      "outputs": []
    },
    {
      "cell_type": "code",
      "metadata": {
        "id": "5v9Oih3V26uZ",
        "colab_type": "code",
        "outputId": "f0488f4d-cc59-4bfa-cea6-6eff4a7f7cb7",
        "colab": {
          "base_uri": "https://localhost:8080/",
          "height": 173
        }
      },
      "source": [
        "!scrapy runspider myspider.py"
      ],
      "execution_count": 0,
      "outputs": [
        {
          "output_type": "stream",
          "text": [
            "2019-12-07 14:56:08 [scrapy.utils.log] INFO: Scrapy 1.8.0 started (bot: scrapybot)\n",
            "2019-12-07 14:56:08 [scrapy.utils.log] INFO: Versions: lxml 4.2.6.0, libxml2 2.9.8, cssselect 1.1.0, parsel 1.5.2, w3lib 1.21.0, Twisted 19.10.0, Python 3.6.9 (default, Nov  7 2019, 10:44:02) - [GCC 8.3.0], pyOpenSSL 19.1.0 (OpenSSL 1.1.1d  10 Sep 2019), cryptography 2.8, Platform Linux-4.14.137+-x86_64-with-Ubuntu-18.04-bionic\n",
            "Usage\n",
            "=====\n",
            "  scrapy runspider [options] <spider_file>\n",
            "\n",
            "runspider: error: File not found: myspider.py\n",
            "\n"
          ],
          "name": "stdout"
        }
      ]
    },
    {
      "cell_type": "code",
      "metadata": {
        "id": "qrmbo_KUvznL",
        "colab_type": "code",
        "colab": {}
      },
      "source": [
        "url = \"https://www1.folha.uol.com.br/poder/2019/12/cgu-diz-que-inexiste-documento-citado-por-bolsonaro-sobre-laranjas-do-psl.shtml\"\n",
        "link = opener.open(url)\n",
        "content = link.read().decode(\"utf-8\")\n"
      ],
      "execution_count": 0,
      "outputs": []
    },
    {
      "cell_type": "code",
      "metadata": {
        "id": "2US14w0WyWny",
        "colab_type": "code",
        "outputId": "dc527b0e-3f85-49c7-e654-f929df0d8ef3",
        "colab": {
          "base_uri": "https://localhost:8080/",
          "height": 54
        }
      },
      "source": [
        "content[:5000]"
      ],
      "execution_count": 0,
      "outputs": [
        {
          "output_type": "execute_result",
          "data": {
            "text/plain": [
              "'\\n\\n\\n\\n\\n\\n<!doctype html>\\n<html lang=\"pt-BR\" data-version=\"prod@a4ccb1b7\">\\n  <head>\\n    <meta charset=\"utf-8\">\\n    <meta http-equiv=\"X-UA-Compatible\" content=\"IE=edge\">\\n    <meta property=\"desliga:paywall\" content=\"false\">\\r\\n    <title>CGU diz que inexiste documento citado por Bolsonaro sobre laranjas do PSL - 07/12/2019 - Poder - Folha</title>\\n  <meta name=\"description\" content=\"Manifestação é resposta ao recurso feito pela Folha a partir de pedidos recusados por Moro dentro da Lei de Acesso à Informação\">\\n  <meta name=\"keywords\" content=\"PSL, Jair Bolsonaro, laranjas do PSL, Gustavo Bebianno, Luciano Bivar, governo bolsonaro, folha  \">\\n    <meta http-equiv=\"Content-Security-Policy\" content=\"upgrade-insecure-requests\">\\n  \\n      <link rel=\"canonical\" href=\"https://www1.folha.uol.com.br/poder/2019/12/cgu-diz-que-inexiste-documento-citado-por-bolsonaro-sobre-laranjas-do-psl.shtml\">\\n  \\n        <link rel=\"amphtml\" href=\"https://www1.folha.uol.com.br/amp/poder/2019/12/cgu-diz-que-inexiste-documento-citado-por-bolsonaro-sobre-laranjas-do-psl.shtml\">\\n  \\n    \\n  <!-- Open Graph Meta Tags -->\\n        <meta property=\"og:description\" content=\"Manifestação é resposta ao recurso feito pela Folha a partir de pedidos recusados por Moro dentro da Lei de Acesso à Informação\">\\n          <meta property=\"og:image\" content=\"https://f.i.uol.com.br/fotografia/2019/12/01/15752477175de45f65a4434_1575247717_3x2_rt.jpg\">\\n      <meta property=\"og:image:height\" content=\"1600\">\\n      <meta property=\"og:image:type\" content=\"image/jpeg\">\\n      <meta property=\"og:image:width\" content=\"2400\">\\n        <meta property=\"og:locale\" content=\"pt_BR\">\\n    <meta property=\"og:site_name\" content=\"Folha de S.Paulo\">\\n    <meta property=\"og:title\" content=\"CGU diz que inexiste documento citado por Bolsonaro sobre laranjas do PSL\">\\n    <meta property=\"og:type\" content=\"article\">\\n        <meta property=\"og:url\" content=\"https://www1.folha.uol.com.br/poder/2019/12/cgu-diz-que-inexiste-documento-citado-por-bolsonaro-sobre-laranjas-do-psl.shtml\">\\n    \\n  <meta property=\"article:published_time\" content=\"2019-12-07 02:00:00\">\\n  <meta property=\"article:modified_time\" content=\"2019-12-06 19:53:43\">\\n  <meta property=\"article:section\" content=\"Poder\">\\n  <meta property=\"article:tag\" content=\"Folha de S.Paulo\">\\n            <meta property=\"article:tag\" content=\"PSL\">\\n          <meta property=\"article:tag\" content=\"Jair Bolsonaro\">\\n          <meta property=\"article:tag\" content=\"laranjas do PSL\">\\n          <meta property=\"article:tag\" content=\"Gustavo Bebianno\">\\n          <meta property=\"article:tag\" content=\"Luciano Bivar\">\\n          <meta property=\"article:tag\" content=\"governo bolsonaro\">\\n        <!-- /Open Graph Meta Tags  -->\\n\\n  <!-- Twitter Meta Tags -->\\n            <meta name=\"twitter:card\" content=\"summary_large_image\">\\n      <meta name=\"twitter:image\" content=\"https://f.i.uol.com.br/fotografia/2019/12/01/15752477175de45f65a4434_1575247717_3x2_rt.jpg\">\\n        <meta name=\"twitter:creator\" content=\"folha\">\\n    <meta name=\"twitter:description\" content=\"Manifestação é resposta ao recurso feito pela Folha a partir de pedidos recusados por Moro dentro da Lei de Acesso à Informação\">\\n    <meta name=\"twitter:site\" content=\"folha\">\\n    <meta name=\"twitter:title\" content=\"CGU diz que inexiste documento citado por Bolsonaro sobre laranjas do PSL - 07/12/2019 - Poder - Folha\">\\n    <!-- /Twitter Meta Tags -->\\n  \\n\\n\\n  \\n    <meta name=\"viewport\" content=\"width=device-width, initial-scale=1\">\\n  <meta name=\"mobile-web-app-capable\" content=\"yes\">\\n\\n  <link rel=\"manifest\" href=\"/manifest.json\">\\n\\n  <link rel=\"apple-touch-icon\" href=\"//f.i.uol.com.br/hunting/folha/1/common/icons/apple-touch-icon.png\">\\n  <link rel=\"apple-touch-icon\" sizes=\"76x76\" href=\"//f.i.uol.com.br/hunting/folha/1/common/icons/touch-icon-ipad.png\">\\n  <link rel=\"apple-touch-icon\" sizes=\"120x120\" href=\"//f.i.uol.com.br/hunting/folha/1/common/icons/touch-icon-iphone-retina.png\">\\n  <link rel=\"apple-touch-icon\" sizes=\"152x152\" href=\"//f.i.uol.com.br/hunting/folha/1/common/icons/touch-icon-ipad-retina.png\">\\n\\n  <link rel=\"apple-touch-startup-image\" href=\"//f.i.uol.com.br/hunting/folha/1/common/splash/launch-640x1136.png\" media=\"(device-width: 320px) and (device-height: 568px) and (-webkit-device-pixel-ratio: 2) and (orientation: portrait)\">\\n  <link rel=\"apple-touch-startup-image\" href=\"//f.i.uol.com.br/hunting/folha/1/common/splash/launch-750x1294.png\" media=\"(device-width: 375px) and (device-height: 667px) and (-webkit-device-pixel-ratio: 2) and (orientation: portrait)\">\\n  <link rel=\"apple-touch-startup-image\" href=\"//f.i.uol.com.br/hunting/folha/1/common/splash/launch-1242x2148.png\" media=\"(device-width: 414px) and (device-height: 736px) and (-webkit-device-pixel-ratio: 3) and (orientation: portrait)\">\\n  <link rel=\"apple-touch-startup-image\" href=\"//f.i.uol.com.br/hunting/folha/1/common/splash/launch-1125x2436.png\" media=\"(device-width: 375px) and (device-height: 812px) and (-webkit-device-pixel-ratio: 3) and (orientation: p'"
            ]
          },
          "metadata": {
            "tags": []
          },
          "execution_count": 34
        }
      ]
    },
    {
      "cell_type": "code",
      "metadata": {
        "id": "_d2e7iD0zApT",
        "colab_type": "code",
        "colab": {}
      },
      "source": [
        "pattern = re.compile('<body>(.*)</body>', re.DOTALL)\n",
        "reg = re.findall(pattern, content)"
      ],
      "execution_count": 0,
      "outputs": []
    },
    {
      "cell_type": "code",
      "metadata": {
        "id": "D8hUGhe8zav-",
        "colab_type": "code",
        "colab": {}
      },
      "source": [
        "reg = \"<div>\" + reg[0] + \"</div>\""
      ],
      "execution_count": 0,
      "outputs": []
    },
    {
      "cell_type": "code",
      "metadata": {
        "id": "FHfnq9ybyN8L",
        "colab_type": "code",
        "outputId": "9c335e83-d73d-43d4-8d87-f179984035d5",
        "colab": {
          "base_uri": "https://localhost:8080/",
          "height": 351
        }
      },
      "source": [
        "page = fragment_fromstring(content); page\n",
        "\n",
        "# pattern = re.compile('<a href=\"(https://www.uol.com.br/[^ ]*)\"', re.DOTALL)\n",
        "# reg = re.findall(pattern, content)\n",
        "# possible_classes = [\"c-news__content\"]\n"
      ],
      "execution_count": 0,
      "outputs": [
        {
          "output_type": "error",
          "ename": "ParserError",
          "evalue": "ignored",
          "traceback": [
            "\u001b[0;31m---------------------------------------------------------------------------\u001b[0m",
            "\u001b[0;31mParserError\u001b[0m                               Traceback (most recent call last)",
            "\u001b[0;32m<ipython-input-41-9b4d8794c5da>\u001b[0m in \u001b[0;36m<module>\u001b[0;34m()\u001b[0m\n\u001b[0;32m----> 1\u001b[0;31m \u001b[0mpage\u001b[0m \u001b[0;34m=\u001b[0m \u001b[0mfragment_fromstring\u001b[0m\u001b[0;34m(\u001b[0m\u001b[0mcontent\u001b[0m\u001b[0;34m)\u001b[0m\u001b[0;34m;\u001b[0m \u001b[0mpage\u001b[0m\u001b[0;34m\u001b[0m\u001b[0;34m\u001b[0m\u001b[0m\n\u001b[0m\u001b[1;32m      2\u001b[0m \u001b[0;34m\u001b[0m\u001b[0m\n\u001b[1;32m      3\u001b[0m \u001b[0;31m# pattern = re.compile('<a href=\"(https://www.uol.com.br/[^ ]*)\"', re.DOTALL)\u001b[0m\u001b[0;34m\u001b[0m\u001b[0;34m\u001b[0m\u001b[0;34m\u001b[0m\u001b[0m\n\u001b[1;32m      4\u001b[0m \u001b[0;31m# reg = re.findall(pattern, content)\u001b[0m\u001b[0;34m\u001b[0m\u001b[0;34m\u001b[0m\u001b[0;34m\u001b[0m\u001b[0m\n\u001b[1;32m      5\u001b[0m \u001b[0;31m# possible_classes = [\"c-news__content\"]\u001b[0m\u001b[0;34m\u001b[0m\u001b[0;34m\u001b[0m\u001b[0;34m\u001b[0m\u001b[0m\n",
            "\u001b[0;32m/usr/local/lib/python3.6/dist-packages/lxml/html/__init__.py\u001b[0m in \u001b[0;36mfragment_fromstring\u001b[0;34m(html, create_parent, base_url, parser, **kw)\u001b[0m\n\u001b[1;32m    849\u001b[0m         raise etree.ParserError(\n\u001b[1;32m    850\u001b[0m             \u001b[0;34m\"Multiple elements found (%s)\"\u001b[0m\u001b[0;34m\u001b[0m\u001b[0;34m\u001b[0m\u001b[0m\n\u001b[0;32m--> 851\u001b[0;31m             % ', '.join([_element_name(e) for e in elements]))\n\u001b[0m\u001b[1;32m    852\u001b[0m     \u001b[0mel\u001b[0m \u001b[0;34m=\u001b[0m \u001b[0melements\u001b[0m\u001b[0;34m[\u001b[0m\u001b[0;36m0\u001b[0m\u001b[0;34m]\u001b[0m\u001b[0;34m\u001b[0m\u001b[0;34m\u001b[0m\u001b[0m\n\u001b[1;32m    853\u001b[0m     \u001b[0;32mif\u001b[0m \u001b[0mel\u001b[0m\u001b[0;34m.\u001b[0m\u001b[0mtail\u001b[0m \u001b[0;32mand\u001b[0m \u001b[0mel\u001b[0m\u001b[0;34m.\u001b[0m\u001b[0mtail\u001b[0m\u001b[0;34m.\u001b[0m\u001b[0mstrip\u001b[0m\u001b[0;34m(\u001b[0m\u001b[0;34m)\u001b[0m\u001b[0;34m:\u001b[0m\u001b[0;34m\u001b[0m\u001b[0;34m\u001b[0m\u001b[0m\n",
            "\u001b[0;31mParserError\u001b[0m: Multiple elements found (div, comment, comment, script, comment, script, script, script, script, div)"
          ]
        }
      ]
    },
    {
      "cell_type": "code",
      "metadata": {
        "id": "s7luQewsyxit",
        "colab_type": "code",
        "colab": {}
      },
      "source": [
        ""
      ],
      "execution_count": 0,
      "outputs": []
    }
  ]
}